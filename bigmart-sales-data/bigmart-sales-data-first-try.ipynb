{
 "cells": [
  {
   "cell_type": "markdown",
   "id": "fc63924c",
   "metadata": {
    "papermill": {
     "duration": 0.015517,
     "end_time": "2023-04-15T07:31:08.111398",
     "exception": false,
     "start_time": "2023-04-15T07:31:08.095881",
     "status": "completed"
    },
    "tags": []
   },
   "source": [
    "# Introduction\n"
   ]
  },
  {
   "cell_type": "raw",
   "id": "51aaf4f1",
   "metadata": {
    "papermill": {
     "duration": 0.013582,
     "end_time": "2023-04-15T07:31:08.139214",
     "exception": false,
     "start_time": "2023-04-15T07:31:08.125632",
     "status": "completed"
    },
    "tags": []
   },
   "source": [
    "1 - This data shows different types of products in diffrent places and our job to clean , explore and build the model to predict the price of products \n",
    "2 - path:\n",
    "   a - wrangle data to understand it well \n",
    "   b - make EDA to handel it \n",
    "   c - building model"
   ]
  },
  {
   "cell_type": "markdown",
   "id": "e40ace17",
   "metadata": {
    "papermill": {
     "duration": 0.01441,
     "end_time": "2023-04-15T07:31:08.167793",
     "exception": false,
     "start_time": "2023-04-15T07:31:08.153383",
     "status": "completed"
    },
    "tags": []
   },
   "source": [
    "# Questions"
   ]
  },
  {
   "cell_type": "raw",
   "id": "6a6c97a0",
   "metadata": {
    "papermill": {
     "duration": 0.013569,
     "end_time": "2023-04-15T07:31:08.196931",
     "exception": false,
     "start_time": "2023-04-15T07:31:08.183362",
     "status": "completed"
    },
    "tags": []
   },
   "source": [
    "1 - What is the highest selling product?\n",
    "2 - which outlet has high sales ?\n",
    "3 - what is the highest outlet size?\n",
    "4 - is there a relation between outlet location and sales?"
   ]
  },
  {
   "cell_type": "markdown",
   "id": "91d189e5",
   "metadata": {
    "papermill": {
     "duration": 0.013676,
     "end_time": "2023-04-15T07:31:08.224691",
     "exception": false,
     "start_time": "2023-04-15T07:31:08.211015",
     "status": "completed"
    },
    "tags": []
   },
   "source": [
    "# Data wrangling "
   ]
  },
  {
   "cell_type": "code",
   "execution_count": 1,
   "id": "67c5a1d5",
   "metadata": {
    "execution": {
     "iopub.execute_input": "2023-04-15T07:31:08.254503Z",
     "iopub.status.busy": "2023-04-15T07:31:08.253992Z",
     "iopub.status.idle": "2023-04-15T07:31:09.418186Z",
     "shell.execute_reply": "2023-04-15T07:31:09.417111Z"
    },
    "papermill": {
     "duration": 1.182722,
     "end_time": "2023-04-15T07:31:09.421098",
     "exception": false,
     "start_time": "2023-04-15T07:31:08.238376",
     "status": "completed"
    },
    "tags": []
   },
   "outputs": [],
   "source": [
    "#impoting python libraies \n",
    "import pandas as pd\n",
    "import numpy as np\n",
    "\n",
    "#imoprting visualization libraies\n",
    "import seaborn as sns\n",
    "import matplotlib.pyplot as plt\n"
   ]
  },
  {
   "cell_type": "code",
   "execution_count": 2,
   "id": "4dbccb54",
   "metadata": {
    "execution": {
     "iopub.execute_input": "2023-04-15T07:31:09.452518Z",
     "iopub.status.busy": "2023-04-15T07:31:09.451611Z",
     "iopub.status.idle": "2023-04-15T07:31:09.527653Z",
     "shell.execute_reply": "2023-04-15T07:31:09.526494Z"
    },
    "papermill": {
     "duration": 0.094883,
     "end_time": "2023-04-15T07:31:09.530640",
     "exception": false,
     "start_time": "2023-04-15T07:31:09.435757",
     "status": "completed"
    },
    "tags": []
   },
   "outputs": [],
   "source": [
    "#import data \n",
    "df_train = pd.read_csv(\"/kaggle/input/bigmart-sales-data/Train.csv\")\n",
    "df_test = pd.read_csv(\"/kaggle/input/bigmart-sales-data/Test.csv\")"
   ]
  },
  {
   "cell_type": "code",
   "execution_count": 3,
   "id": "2b8c30cc",
   "metadata": {
    "execution": {
     "iopub.execute_input": "2023-04-15T07:31:09.561647Z",
     "iopub.status.busy": "2023-04-15T07:31:09.560624Z",
     "iopub.status.idle": "2023-04-15T07:31:09.594026Z",
     "shell.execute_reply": "2023-04-15T07:31:09.592582Z"
    },
    "papermill": {
     "duration": 0.051721,
     "end_time": "2023-04-15T07:31:09.596717",
     "exception": false,
     "start_time": "2023-04-15T07:31:09.544996",
     "status": "completed"
    },
    "scrolled": true,
    "tags": []
   },
   "outputs": [
    {
     "data": {
      "text/html": [
       "<div>\n",
       "<style scoped>\n",
       "    .dataframe tbody tr th:only-of-type {\n",
       "        vertical-align: middle;\n",
       "    }\n",
       "\n",
       "    .dataframe tbody tr th {\n",
       "        vertical-align: top;\n",
       "    }\n",
       "\n",
       "    .dataframe thead th {\n",
       "        text-align: right;\n",
       "    }\n",
       "</style>\n",
       "<table border=\"1\" class=\"dataframe\">\n",
       "  <thead>\n",
       "    <tr style=\"text-align: right;\">\n",
       "      <th></th>\n",
       "      <th>Item_Identifier</th>\n",
       "      <th>Item_Weight</th>\n",
       "      <th>Item_Fat_Content</th>\n",
       "      <th>Item_Visibility</th>\n",
       "      <th>Item_Type</th>\n",
       "      <th>Item_MRP</th>\n",
       "      <th>Outlet_Identifier</th>\n",
       "      <th>Outlet_Establishment_Year</th>\n",
       "      <th>Outlet_Size</th>\n",
       "      <th>Outlet_Location_Type</th>\n",
       "      <th>Outlet_Type</th>\n",
       "      <th>Item_Outlet_Sales</th>\n",
       "    </tr>\n",
       "  </thead>\n",
       "  <tbody>\n",
       "    <tr>\n",
       "      <th>0</th>\n",
       "      <td>FDA15</td>\n",
       "      <td>9.30</td>\n",
       "      <td>Low Fat</td>\n",
       "      <td>0.016047</td>\n",
       "      <td>Dairy</td>\n",
       "      <td>249.8092</td>\n",
       "      <td>OUT049</td>\n",
       "      <td>1999</td>\n",
       "      <td>Medium</td>\n",
       "      <td>Tier 1</td>\n",
       "      <td>Supermarket Type1</td>\n",
       "      <td>3735.1380</td>\n",
       "    </tr>\n",
       "    <tr>\n",
       "      <th>1</th>\n",
       "      <td>DRC01</td>\n",
       "      <td>5.92</td>\n",
       "      <td>Regular</td>\n",
       "      <td>0.019278</td>\n",
       "      <td>Soft Drinks</td>\n",
       "      <td>48.2692</td>\n",
       "      <td>OUT018</td>\n",
       "      <td>2009</td>\n",
       "      <td>Medium</td>\n",
       "      <td>Tier 3</td>\n",
       "      <td>Supermarket Type2</td>\n",
       "      <td>443.4228</td>\n",
       "    </tr>\n",
       "    <tr>\n",
       "      <th>2</th>\n",
       "      <td>FDN15</td>\n",
       "      <td>17.50</td>\n",
       "      <td>Low Fat</td>\n",
       "      <td>0.016760</td>\n",
       "      <td>Meat</td>\n",
       "      <td>141.6180</td>\n",
       "      <td>OUT049</td>\n",
       "      <td>1999</td>\n",
       "      <td>Medium</td>\n",
       "      <td>Tier 1</td>\n",
       "      <td>Supermarket Type1</td>\n",
       "      <td>2097.2700</td>\n",
       "    </tr>\n",
       "    <tr>\n",
       "      <th>3</th>\n",
       "      <td>FDX07</td>\n",
       "      <td>19.20</td>\n",
       "      <td>Regular</td>\n",
       "      <td>0.000000</td>\n",
       "      <td>Fruits and Vegetables</td>\n",
       "      <td>182.0950</td>\n",
       "      <td>OUT010</td>\n",
       "      <td>1998</td>\n",
       "      <td>NaN</td>\n",
       "      <td>Tier 3</td>\n",
       "      <td>Grocery Store</td>\n",
       "      <td>732.3800</td>\n",
       "    </tr>\n",
       "    <tr>\n",
       "      <th>4</th>\n",
       "      <td>NCD19</td>\n",
       "      <td>8.93</td>\n",
       "      <td>Low Fat</td>\n",
       "      <td>0.000000</td>\n",
       "      <td>Household</td>\n",
       "      <td>53.8614</td>\n",
       "      <td>OUT013</td>\n",
       "      <td>1987</td>\n",
       "      <td>High</td>\n",
       "      <td>Tier 3</td>\n",
       "      <td>Supermarket Type1</td>\n",
       "      <td>994.7052</td>\n",
       "    </tr>\n",
       "  </tbody>\n",
       "</table>\n",
       "</div>"
      ],
      "text/plain": [
       "  Item_Identifier  Item_Weight Item_Fat_Content  Item_Visibility  \\\n",
       "0           FDA15         9.30          Low Fat         0.016047   \n",
       "1           DRC01         5.92          Regular         0.019278   \n",
       "2           FDN15        17.50          Low Fat         0.016760   \n",
       "3           FDX07        19.20          Regular         0.000000   \n",
       "4           NCD19         8.93          Low Fat         0.000000   \n",
       "\n",
       "               Item_Type  Item_MRP Outlet_Identifier  \\\n",
       "0                  Dairy  249.8092            OUT049   \n",
       "1            Soft Drinks   48.2692            OUT018   \n",
       "2                   Meat  141.6180            OUT049   \n",
       "3  Fruits and Vegetables  182.0950            OUT010   \n",
       "4              Household   53.8614            OUT013   \n",
       "\n",
       "   Outlet_Establishment_Year Outlet_Size Outlet_Location_Type  \\\n",
       "0                       1999      Medium               Tier 1   \n",
       "1                       2009      Medium               Tier 3   \n",
       "2                       1999      Medium               Tier 1   \n",
       "3                       1998         NaN               Tier 3   \n",
       "4                       1987        High               Tier 3   \n",
       "\n",
       "         Outlet_Type  Item_Outlet_Sales  \n",
       "0  Supermarket Type1          3735.1380  \n",
       "1  Supermarket Type2           443.4228  \n",
       "2  Supermarket Type1          2097.2700  \n",
       "3      Grocery Store           732.3800  \n",
       "4  Supermarket Type1           994.7052  "
      ]
     },
     "execution_count": 3,
     "metadata": {},
     "output_type": "execute_result"
    }
   ],
   "source": [
    "#print the first five rows from the data \n",
    "df_train.head()"
   ]
  },
  {
   "cell_type": "code",
   "execution_count": 4,
   "id": "3640f84c",
   "metadata": {
    "execution": {
     "iopub.execute_input": "2023-04-15T07:31:09.627729Z",
     "iopub.status.busy": "2023-04-15T07:31:09.626939Z",
     "iopub.status.idle": "2023-04-15T07:31:09.633942Z",
     "shell.execute_reply": "2023-04-15T07:31:09.632768Z"
    },
    "papermill": {
     "duration": 0.025153,
     "end_time": "2023-04-15T07:31:09.636319",
     "exception": false,
     "start_time": "2023-04-15T07:31:09.611166",
     "status": "completed"
    },
    "scrolled": true,
    "tags": []
   },
   "outputs": [
    {
     "data": {
      "text/plain": [
       "(8523, 12)"
      ]
     },
     "execution_count": 4,
     "metadata": {},
     "output_type": "execute_result"
    }
   ],
   "source": [
    "df_train.shape"
   ]
  },
  {
   "cell_type": "code",
   "execution_count": 5,
   "id": "5913b9f5",
   "metadata": {
    "execution": {
     "iopub.execute_input": "2023-04-15T07:31:09.666824Z",
     "iopub.status.busy": "2023-04-15T07:31:09.666426Z",
     "iopub.status.idle": "2023-04-15T07:31:09.693628Z",
     "shell.execute_reply": "2023-04-15T07:31:09.692129Z"
    },
    "papermill": {
     "duration": 0.045192,
     "end_time": "2023-04-15T07:31:09.695954",
     "exception": false,
     "start_time": "2023-04-15T07:31:09.650762",
     "status": "completed"
    },
    "tags": []
   },
   "outputs": [
    {
     "name": "stdout",
     "output_type": "stream",
     "text": [
      "<class 'pandas.core.frame.DataFrame'>\n",
      "RangeIndex: 8523 entries, 0 to 8522\n",
      "Data columns (total 12 columns):\n",
      " #   Column                     Non-Null Count  Dtype  \n",
      "---  ------                     --------------  -----  \n",
      " 0   Item_Identifier            8523 non-null   object \n",
      " 1   Item_Weight                7060 non-null   float64\n",
      " 2   Item_Fat_Content           8523 non-null   object \n",
      " 3   Item_Visibility            8523 non-null   float64\n",
      " 4   Item_Type                  8523 non-null   object \n",
      " 5   Item_MRP                   8523 non-null   float64\n",
      " 6   Outlet_Identifier          8523 non-null   object \n",
      " 7   Outlet_Establishment_Year  8523 non-null   int64  \n",
      " 8   Outlet_Size                6113 non-null   object \n",
      " 9   Outlet_Location_Type       8523 non-null   object \n",
      " 10  Outlet_Type                8523 non-null   object \n",
      " 11  Item_Outlet_Sales          8523 non-null   float64\n",
      "dtypes: float64(4), int64(1), object(7)\n",
      "memory usage: 799.2+ KB\n"
     ]
    }
   ],
   "source": [
    "df_train.info()"
   ]
  },
  {
   "cell_type": "markdown",
   "id": "e26e3920",
   "metadata": {
    "papermill": {
     "duration": 0.014174,
     "end_time": "2023-04-15T07:31:09.724450",
     "exception": false,
     "start_time": "2023-04-15T07:31:09.710276",
     "status": "completed"
    },
    "tags": []
   },
   "source": [
    "\n",
    "\n"
   ]
  },
  {
   "cell_type": "code",
   "execution_count": 6,
   "id": "a91ddff2",
   "metadata": {
    "execution": {
     "iopub.execute_input": "2023-04-15T07:31:09.754811Z",
     "iopub.status.busy": "2023-04-15T07:31:09.754424Z",
     "iopub.status.idle": "2023-04-15T07:31:09.785226Z",
     "shell.execute_reply": "2023-04-15T07:31:09.784174Z"
    },
    "papermill": {
     "duration": 0.048924,
     "end_time": "2023-04-15T07:31:09.787566",
     "exception": false,
     "start_time": "2023-04-15T07:31:09.738642",
     "status": "completed"
    },
    "tags": []
   },
   "outputs": [
    {
     "data": {
      "text/html": [
       "<div>\n",
       "<style scoped>\n",
       "    .dataframe tbody tr th:only-of-type {\n",
       "        vertical-align: middle;\n",
       "    }\n",
       "\n",
       "    .dataframe tbody tr th {\n",
       "        vertical-align: top;\n",
       "    }\n",
       "\n",
       "    .dataframe thead th {\n",
       "        text-align: right;\n",
       "    }\n",
       "</style>\n",
       "<table border=\"1\" class=\"dataframe\">\n",
       "  <thead>\n",
       "    <tr style=\"text-align: right;\">\n",
       "      <th></th>\n",
       "      <th>Item_Weight</th>\n",
       "      <th>Item_Visibility</th>\n",
       "      <th>Item_MRP</th>\n",
       "      <th>Outlet_Establishment_Year</th>\n",
       "      <th>Item_Outlet_Sales</th>\n",
       "    </tr>\n",
       "  </thead>\n",
       "  <tbody>\n",
       "    <tr>\n",
       "      <th>count</th>\n",
       "      <td>7060.000000</td>\n",
       "      <td>8523.000000</td>\n",
       "      <td>8523.000000</td>\n",
       "      <td>8523.000000</td>\n",
       "      <td>8523.000000</td>\n",
       "    </tr>\n",
       "    <tr>\n",
       "      <th>mean</th>\n",
       "      <td>12.857645</td>\n",
       "      <td>0.066132</td>\n",
       "      <td>140.992782</td>\n",
       "      <td>1997.831867</td>\n",
       "      <td>2181.288914</td>\n",
       "    </tr>\n",
       "    <tr>\n",
       "      <th>std</th>\n",
       "      <td>4.643456</td>\n",
       "      <td>0.051598</td>\n",
       "      <td>62.275067</td>\n",
       "      <td>8.371760</td>\n",
       "      <td>1706.499616</td>\n",
       "    </tr>\n",
       "    <tr>\n",
       "      <th>min</th>\n",
       "      <td>4.555000</td>\n",
       "      <td>0.000000</td>\n",
       "      <td>31.290000</td>\n",
       "      <td>1985.000000</td>\n",
       "      <td>33.290000</td>\n",
       "    </tr>\n",
       "    <tr>\n",
       "      <th>25%</th>\n",
       "      <td>8.773750</td>\n",
       "      <td>0.026989</td>\n",
       "      <td>93.826500</td>\n",
       "      <td>1987.000000</td>\n",
       "      <td>834.247400</td>\n",
       "    </tr>\n",
       "    <tr>\n",
       "      <th>50%</th>\n",
       "      <td>12.600000</td>\n",
       "      <td>0.053931</td>\n",
       "      <td>143.012800</td>\n",
       "      <td>1999.000000</td>\n",
       "      <td>1794.331000</td>\n",
       "    </tr>\n",
       "    <tr>\n",
       "      <th>75%</th>\n",
       "      <td>16.850000</td>\n",
       "      <td>0.094585</td>\n",
       "      <td>185.643700</td>\n",
       "      <td>2004.000000</td>\n",
       "      <td>3101.296400</td>\n",
       "    </tr>\n",
       "    <tr>\n",
       "      <th>max</th>\n",
       "      <td>21.350000</td>\n",
       "      <td>0.328391</td>\n",
       "      <td>266.888400</td>\n",
       "      <td>2009.000000</td>\n",
       "      <td>13086.964800</td>\n",
       "    </tr>\n",
       "  </tbody>\n",
       "</table>\n",
       "</div>"
      ],
      "text/plain": [
       "       Item_Weight  Item_Visibility     Item_MRP  Outlet_Establishment_Year  \\\n",
       "count  7060.000000      8523.000000  8523.000000                8523.000000   \n",
       "mean     12.857645         0.066132   140.992782                1997.831867   \n",
       "std       4.643456         0.051598    62.275067                   8.371760   \n",
       "min       4.555000         0.000000    31.290000                1985.000000   \n",
       "25%       8.773750         0.026989    93.826500                1987.000000   \n",
       "50%      12.600000         0.053931   143.012800                1999.000000   \n",
       "75%      16.850000         0.094585   185.643700                2004.000000   \n",
       "max      21.350000         0.328391   266.888400                2009.000000   \n",
       "\n",
       "       Item_Outlet_Sales  \n",
       "count        8523.000000  \n",
       "mean         2181.288914  \n",
       "std          1706.499616  \n",
       "min            33.290000  \n",
       "25%           834.247400  \n",
       "50%          1794.331000  \n",
       "75%          3101.296400  \n",
       "max         13086.964800  "
      ]
     },
     "execution_count": 6,
     "metadata": {},
     "output_type": "execute_result"
    }
   ],
   "source": [
    "df_train.describe()"
   ]
  },
  {
   "cell_type": "code",
   "execution_count": 7,
   "id": "83816a50",
   "metadata": {
    "execution": {
     "iopub.execute_input": "2023-04-15T07:31:09.819636Z",
     "iopub.status.busy": "2023-04-15T07:31:09.818489Z",
     "iopub.status.idle": "2023-04-15T07:31:09.824912Z",
     "shell.execute_reply": "2023-04-15T07:31:09.824047Z"
    },
    "papermill": {
     "duration": 0.024674,
     "end_time": "2023-04-15T07:31:09.827062",
     "exception": false,
     "start_time": "2023-04-15T07:31:09.802388",
     "status": "completed"
    },
    "tags": []
   },
   "outputs": [],
   "source": [
    "#extract catigorical data \n",
    "df_cat = df_train[[\n",
    "    \"Item_Identifier\" , \"Item_Fat_Content\" , \"Item_Type\" , \"Outlet_Identifier\" , \"Outlet_Size\" , \"Outlet_Location_Type\" ,\n",
    "    \"Outlet_Type\"\n",
    "]]"
   ]
  },
  {
   "cell_type": "code",
   "execution_count": 8,
   "id": "0fb6edbe",
   "metadata": {
    "execution": {
     "iopub.execute_input": "2023-04-15T07:31:09.858628Z",
     "iopub.status.busy": "2023-04-15T07:31:09.857889Z",
     "iopub.status.idle": "2023-04-15T07:31:09.870108Z",
     "shell.execute_reply": "2023-04-15T07:31:09.868527Z"
    },
    "papermill": {
     "duration": 0.03083,
     "end_time": "2023-04-15T07:31:09.872500",
     "exception": false,
     "start_time": "2023-04-15T07:31:09.841670",
     "status": "completed"
    },
    "tags": []
   },
   "outputs": [
    {
     "name": "stdout",
     "output_type": "stream",
     "text": [
      "Item_Identifier : 1559\n",
      "Item_Fat_Content : 5\n",
      "Item_Type : 16\n",
      "Outlet_Identifier : 10\n",
      "Outlet_Size : 3\n",
      "Outlet_Location_Type : 3\n",
      "Outlet_Type : 4\n"
     ]
    }
   ],
   "source": [
    "#show how many diffrent types of catigorical data\n",
    "for features in df_cat.columns:\n",
    "    print(f\"{features} : {df_train[features].nunique()}\" )"
   ]
  },
  {
   "cell_type": "code",
   "execution_count": 9,
   "id": "50a6f5f6",
   "metadata": {
    "execution": {
     "iopub.execute_input": "2023-04-15T07:31:09.905396Z",
     "iopub.status.busy": "2023-04-15T07:31:09.904744Z",
     "iopub.status.idle": "2023-04-15T07:31:09.911396Z",
     "shell.execute_reply": "2023-04-15T07:31:09.910605Z"
    },
    "papermill": {
     "duration": 0.026206,
     "end_time": "2023-04-15T07:31:09.913567",
     "exception": false,
     "start_time": "2023-04-15T07:31:09.887361",
     "status": "completed"
    },
    "tags": []
   },
   "outputs": [
    {
     "data": {
      "text/plain": [
       "array(['Low Fat', 'Regular', 'low fat', 'LF', 'reg'], dtype=object)"
      ]
     },
     "execution_count": 9,
     "metadata": {},
     "output_type": "execute_result"
    }
   ],
   "source": [
    "df_train[\"Item_Fat_Content\"].unique()"
   ]
  },
  {
   "cell_type": "code",
   "execution_count": 10,
   "id": "69e03ea1",
   "metadata": {
    "execution": {
     "iopub.execute_input": "2023-04-15T07:31:09.946164Z",
     "iopub.status.busy": "2023-04-15T07:31:09.945411Z",
     "iopub.status.idle": "2023-04-15T07:31:09.953207Z",
     "shell.execute_reply": "2023-04-15T07:31:09.951937Z"
    },
    "papermill": {
     "duration": 0.026847,
     "end_time": "2023-04-15T07:31:09.955477",
     "exception": false,
     "start_time": "2023-04-15T07:31:09.928630",
     "status": "completed"
    },
    "tags": []
   },
   "outputs": [
    {
     "data": {
      "text/plain": [
       "array(['Dairy', 'Soft Drinks', 'Meat', 'Fruits and Vegetables',\n",
       "       'Household', 'Baking Goods', 'Snack Foods', 'Frozen Foods',\n",
       "       'Breakfast', 'Health and Hygiene', 'Hard Drinks', 'Canned',\n",
       "       'Breads', 'Starchy Foods', 'Others', 'Seafood'], dtype=object)"
      ]
     },
     "execution_count": 10,
     "metadata": {},
     "output_type": "execute_result"
    }
   ],
   "source": [
    "df_train[\"Item_Type\"].unique()"
   ]
  },
  {
   "cell_type": "code",
   "execution_count": 11,
   "id": "d177561c",
   "metadata": {
    "execution": {
     "iopub.execute_input": "2023-04-15T07:31:09.987843Z",
     "iopub.status.busy": "2023-04-15T07:31:09.987418Z",
     "iopub.status.idle": "2023-04-15T07:31:09.995593Z",
     "shell.execute_reply": "2023-04-15T07:31:09.994521Z"
    },
    "papermill": {
     "duration": 0.027532,
     "end_time": "2023-04-15T07:31:09.997905",
     "exception": false,
     "start_time": "2023-04-15T07:31:09.970373",
     "status": "completed"
    },
    "tags": []
   },
   "outputs": [
    {
     "data": {
      "text/plain": [
       "array(['OUT049', 'OUT018', 'OUT010', 'OUT013', 'OUT027', 'OUT045',\n",
       "       'OUT017', 'OUT046', 'OUT035', 'OUT019'], dtype=object)"
      ]
     },
     "execution_count": 11,
     "metadata": {},
     "output_type": "execute_result"
    }
   ],
   "source": [
    "df_train[\"Outlet_Identifier\"].unique()"
   ]
  },
  {
   "cell_type": "code",
   "execution_count": 12,
   "id": "f36ecdab",
   "metadata": {
    "execution": {
     "iopub.execute_input": "2023-04-15T07:31:10.030653Z",
     "iopub.status.busy": "2023-04-15T07:31:10.030256Z",
     "iopub.status.idle": "2023-04-15T07:31:10.038627Z",
     "shell.execute_reply": "2023-04-15T07:31:10.037399Z"
    },
    "papermill": {
     "duration": 0.027935,
     "end_time": "2023-04-15T07:31:10.041139",
     "exception": false,
     "start_time": "2023-04-15T07:31:10.013204",
     "status": "completed"
    },
    "tags": []
   },
   "outputs": [
    {
     "data": {
      "text/plain": [
       "array(['Medium', nan, 'High', 'Small'], dtype=object)"
      ]
     },
     "execution_count": 12,
     "metadata": {},
     "output_type": "execute_result"
    }
   ],
   "source": [
    "df_train[\"Outlet_Size\"].unique()"
   ]
  },
  {
   "cell_type": "code",
   "execution_count": 13,
   "id": "6cd36548",
   "metadata": {
    "execution": {
     "iopub.execute_input": "2023-04-15T07:31:10.074729Z",
     "iopub.status.busy": "2023-04-15T07:31:10.073670Z",
     "iopub.status.idle": "2023-04-15T07:31:10.082384Z",
     "shell.execute_reply": "2023-04-15T07:31:10.081188Z"
    },
    "papermill": {
     "duration": 0.028221,
     "end_time": "2023-04-15T07:31:10.084626",
     "exception": false,
     "start_time": "2023-04-15T07:31:10.056405",
     "status": "completed"
    },
    "tags": []
   },
   "outputs": [
    {
     "data": {
      "text/plain": [
       "array(['Supermarket Type1', 'Supermarket Type2', 'Grocery Store',\n",
       "       'Supermarket Type3'], dtype=object)"
      ]
     },
     "execution_count": 13,
     "metadata": {},
     "output_type": "execute_result"
    }
   ],
   "source": [
    "df_train[\"Outlet_Type\"].unique()"
   ]
  },
  {
   "cell_type": "raw",
   "id": "1fc53278",
   "metadata": {
    "papermill": {
     "duration": 0.015058,
     "end_time": "2023-04-15T07:31:10.114937",
     "exception": false,
     "start_time": "2023-04-15T07:31:10.099879",
     "status": "completed"
    },
    "tags": []
   },
   "source": [
    "Insights:\n",
    " 1- there are two colums have nan values [Item_Weight  , Outlet_Size]\n",
    " 2- there are outliers in outlet sales \n",
    " 3- there are same types with diffrent names so they need to be replaced in Item_Fat_Content"
   ]
  },
  {
   "cell_type": "markdown",
   "id": "7f57698c",
   "metadata": {
    "papermill": {
     "duration": 0.015474,
     "end_time": "2023-04-15T07:31:10.145703",
     "exception": false,
     "start_time": "2023-04-15T07:31:10.130229",
     "status": "completed"
    },
    "tags": []
   },
   "source": [
    "# EDA"
   ]
  },
  {
   "cell_type": "code",
   "execution_count": 14,
   "id": "3265ddaf",
   "metadata": {
    "execution": {
     "iopub.execute_input": "2023-04-15T07:31:10.178792Z",
     "iopub.status.busy": "2023-04-15T07:31:10.178317Z",
     "iopub.status.idle": "2023-04-15T07:31:10.196278Z",
     "shell.execute_reply": "2023-04-15T07:31:10.195452Z"
    },
    "papermill": {
     "duration": 0.037408,
     "end_time": "2023-04-15T07:31:10.198589",
     "exception": false,
     "start_time": "2023-04-15T07:31:10.161181",
     "status": "completed"
    },
    "tags": []
   },
   "outputs": [
    {
     "data": {
      "text/html": [
       "<div>\n",
       "<style scoped>\n",
       "    .dataframe tbody tr th:only-of-type {\n",
       "        vertical-align: middle;\n",
       "    }\n",
       "\n",
       "    .dataframe tbody tr th {\n",
       "        vertical-align: top;\n",
       "    }\n",
       "\n",
       "    .dataframe thead th {\n",
       "        text-align: right;\n",
       "    }\n",
       "</style>\n",
       "<table border=\"1\" class=\"dataframe\">\n",
       "  <thead>\n",
       "    <tr style=\"text-align: right;\">\n",
       "      <th></th>\n",
       "      <th>Item_Identifier</th>\n",
       "      <th>Item_Weight</th>\n",
       "      <th>Item_Fat_Content</th>\n",
       "      <th>Item_Visibility</th>\n",
       "      <th>Item_Type</th>\n",
       "      <th>Item_MRP</th>\n",
       "      <th>Outlet_Identifier</th>\n",
       "      <th>Outlet_Establishment_Year</th>\n",
       "      <th>Outlet_Size</th>\n",
       "      <th>Outlet_Location_Type</th>\n",
       "      <th>Outlet_Type</th>\n",
       "      <th>Item_Outlet_Sales</th>\n",
       "    </tr>\n",
       "  </thead>\n",
       "  <tbody>\n",
       "    <tr>\n",
       "      <th>0</th>\n",
       "      <td>FDA15</td>\n",
       "      <td>9.30</td>\n",
       "      <td>Low Fat</td>\n",
       "      <td>0.016047</td>\n",
       "      <td>Dairy</td>\n",
       "      <td>249.8092</td>\n",
       "      <td>OUT049</td>\n",
       "      <td>1999</td>\n",
       "      <td>Medium</td>\n",
       "      <td>Tier 1</td>\n",
       "      <td>Supermarket Type1</td>\n",
       "      <td>3735.1380</td>\n",
       "    </tr>\n",
       "    <tr>\n",
       "      <th>1</th>\n",
       "      <td>DRC01</td>\n",
       "      <td>5.92</td>\n",
       "      <td>Regular</td>\n",
       "      <td>0.019278</td>\n",
       "      <td>Soft Drinks</td>\n",
       "      <td>48.2692</td>\n",
       "      <td>OUT018</td>\n",
       "      <td>2009</td>\n",
       "      <td>Medium</td>\n",
       "      <td>Tier 3</td>\n",
       "      <td>Supermarket Type2</td>\n",
       "      <td>443.4228</td>\n",
       "    </tr>\n",
       "    <tr>\n",
       "      <th>2</th>\n",
       "      <td>FDN15</td>\n",
       "      <td>17.50</td>\n",
       "      <td>Low Fat</td>\n",
       "      <td>0.016760</td>\n",
       "      <td>Meat</td>\n",
       "      <td>141.6180</td>\n",
       "      <td>OUT049</td>\n",
       "      <td>1999</td>\n",
       "      <td>Medium</td>\n",
       "      <td>Tier 1</td>\n",
       "      <td>Supermarket Type1</td>\n",
       "      <td>2097.2700</td>\n",
       "    </tr>\n",
       "    <tr>\n",
       "      <th>3</th>\n",
       "      <td>FDX07</td>\n",
       "      <td>19.20</td>\n",
       "      <td>Regular</td>\n",
       "      <td>0.000000</td>\n",
       "      <td>Fruits and Vegetables</td>\n",
       "      <td>182.0950</td>\n",
       "      <td>OUT010</td>\n",
       "      <td>1998</td>\n",
       "      <td>NaN</td>\n",
       "      <td>Tier 3</td>\n",
       "      <td>Grocery Store</td>\n",
       "      <td>732.3800</td>\n",
       "    </tr>\n",
       "    <tr>\n",
       "      <th>4</th>\n",
       "      <td>NCD19</td>\n",
       "      <td>8.93</td>\n",
       "      <td>Low Fat</td>\n",
       "      <td>0.000000</td>\n",
       "      <td>Household</td>\n",
       "      <td>53.8614</td>\n",
       "      <td>OUT013</td>\n",
       "      <td>1987</td>\n",
       "      <td>High</td>\n",
       "      <td>Tier 3</td>\n",
       "      <td>Supermarket Type1</td>\n",
       "      <td>994.7052</td>\n",
       "    </tr>\n",
       "  </tbody>\n",
       "</table>\n",
       "</div>"
      ],
      "text/plain": [
       "  Item_Identifier  Item_Weight Item_Fat_Content  Item_Visibility  \\\n",
       "0           FDA15         9.30          Low Fat         0.016047   \n",
       "1           DRC01         5.92          Regular         0.019278   \n",
       "2           FDN15        17.50          Low Fat         0.016760   \n",
       "3           FDX07        19.20          Regular         0.000000   \n",
       "4           NCD19         8.93          Low Fat         0.000000   \n",
       "\n",
       "               Item_Type  Item_MRP Outlet_Identifier  \\\n",
       "0                  Dairy  249.8092            OUT049   \n",
       "1            Soft Drinks   48.2692            OUT018   \n",
       "2                   Meat  141.6180            OUT049   \n",
       "3  Fruits and Vegetables  182.0950            OUT010   \n",
       "4              Household   53.8614            OUT013   \n",
       "\n",
       "   Outlet_Establishment_Year Outlet_Size Outlet_Location_Type  \\\n",
       "0                       1999      Medium               Tier 1   \n",
       "1                       2009      Medium               Tier 3   \n",
       "2                       1999      Medium               Tier 1   \n",
       "3                       1998         NaN               Tier 3   \n",
       "4                       1987        High               Tier 3   \n",
       "\n",
       "         Outlet_Type  Item_Outlet_Sales  \n",
       "0  Supermarket Type1          3735.1380  \n",
       "1  Supermarket Type2           443.4228  \n",
       "2  Supermarket Type1          2097.2700  \n",
       "3      Grocery Store           732.3800  \n",
       "4  Supermarket Type1           994.7052  "
      ]
     },
     "execution_count": 14,
     "metadata": {},
     "output_type": "execute_result"
    }
   ],
   "source": [
    "df_train.head()"
   ]
  },
  {
   "cell_type": "markdown",
   "id": "76f9928f",
   "metadata": {
    "papermill": {
     "duration": 0.015258,
     "end_time": "2023-04-15T07:31:10.229936",
     "exception": false,
     "start_time": "2023-04-15T07:31:10.214678",
     "status": "completed"
    },
    "tags": []
   },
   "source": [
    "1 - What is the highest selling product?"
   ]
  },
  {
   "cell_type": "code",
   "execution_count": 15,
   "id": "54e5dbb6",
   "metadata": {
    "execution": {
     "iopub.execute_input": "2023-04-15T07:31:10.263260Z",
     "iopub.status.busy": "2023-04-15T07:31:10.262825Z",
     "iopub.status.idle": "2023-04-15T07:31:10.274441Z",
     "shell.execute_reply": "2023-04-15T07:31:10.273263Z"
    },
    "papermill": {
     "duration": 0.031178,
     "end_time": "2023-04-15T07:31:10.276701",
     "exception": false,
     "start_time": "2023-04-15T07:31:10.245523",
     "status": "completed"
    },
    "tags": []
   },
   "outputs": [
    {
     "data": {
      "text/plain": [
       "Item_Type\n",
       "Fruits and Vegetables    2.820060e+06\n",
       "Snack Foods              2.732786e+06\n",
       "Household                2.055494e+06\n",
       "Frozen Foods             1.825735e+06\n",
       "Dairy                    1.522594e+06\n",
       "Canned                   1.444151e+06\n",
       "Baking Goods             1.265525e+06\n",
       "Health and Hygiene       1.045200e+06\n",
       "Meat                     9.175656e+05\n",
       "Soft Drinks              8.928977e+05\n",
       "Breads                   5.532372e+05\n",
       "Hard Drinks              4.577934e+05\n",
       "Starchy Foods            3.514013e+05\n",
       "Others                   3.255176e+05\n",
       "Breakfast                2.322990e+05\n",
       "Seafood                  1.488682e+05\n",
       "Name: Item_Outlet_Sales, dtype: float64"
      ]
     },
     "execution_count": 15,
     "metadata": {},
     "output_type": "execute_result"
    }
   ],
   "source": [
    "df_train.groupby([\"Item_Type\"])[\"Item_Outlet_Sales\"].sum().sort_values(ascending = False)"
   ]
  },
  {
   "cell_type": "code",
   "execution_count": 16,
   "id": "4bd46071",
   "metadata": {
    "execution": {
     "iopub.execute_input": "2023-04-15T07:31:10.310770Z",
     "iopub.status.busy": "2023-04-15T07:31:10.310086Z",
     "iopub.status.idle": "2023-04-15T07:31:10.318146Z",
     "shell.execute_reply": "2023-04-15T07:31:10.316988Z"
    },
    "papermill": {
     "duration": 0.028045,
     "end_time": "2023-04-15T07:31:10.320754",
     "exception": false,
     "start_time": "2023-04-15T07:31:10.292709",
     "status": "completed"
    },
    "tags": []
   },
   "outputs": [
    {
     "data": {
      "text/plain": [
       "array(['Low Fat', 'Regular', 'low fat', 'LF', 'reg'], dtype=object)"
      ]
     },
     "execution_count": 16,
     "metadata": {},
     "output_type": "execute_result"
    }
   ],
   "source": [
    "df_train[\"Item_Fat_Content\"].unique()"
   ]
  },
  {
   "cell_type": "code",
   "execution_count": 17,
   "id": "b8fef826",
   "metadata": {
    "execution": {
     "iopub.execute_input": "2023-04-15T07:31:10.354820Z",
     "iopub.status.busy": "2023-04-15T07:31:10.354141Z",
     "iopub.status.idle": "2023-04-15T07:31:10.363793Z",
     "shell.execute_reply": "2023-04-15T07:31:10.362869Z"
    },
    "papermill": {
     "duration": 0.029368,
     "end_time": "2023-04-15T07:31:10.366148",
     "exception": false,
     "start_time": "2023-04-15T07:31:10.336780",
     "status": "completed"
    },
    "tags": []
   },
   "outputs": [],
   "source": [
    "#chane the data in item fat content to be the same \n",
    "dic = {\n",
    "    \"Low Fat\" : \"Low Fat\" ,\n",
    "    \"low fat\" : \"Low Fat\" , \n",
    "    \"LF\" : \"Low Fat\" ,\n",
    "    \"reg\" : \"Regular\" , \n",
    "    \"Regular\" : \"Regular\" ,\n",
    "} \n",
    "df_train[\"Item_Fat_Content\"] = df_train[\"Item_Fat_Content\"].map(dic)"
   ]
  },
  {
   "cell_type": "code",
   "execution_count": 18,
   "id": "0ffb3d37",
   "metadata": {
    "execution": {
     "iopub.execute_input": "2023-04-15T07:31:10.400585Z",
     "iopub.status.busy": "2023-04-15T07:31:10.399845Z",
     "iopub.status.idle": "2023-04-15T07:31:10.408263Z",
     "shell.execute_reply": "2023-04-15T07:31:10.407138Z"
    },
    "papermill": {
     "duration": 0.028473,
     "end_time": "2023-04-15T07:31:10.410731",
     "exception": false,
     "start_time": "2023-04-15T07:31:10.382258",
     "status": "completed"
    },
    "tags": []
   },
   "outputs": [
    {
     "data": {
      "text/plain": [
       "array(['Low Fat', 'Regular'], dtype=object)"
      ]
     },
     "execution_count": 18,
     "metadata": {},
     "output_type": "execute_result"
    }
   ],
   "source": [
    "df_train[\"Item_Fat_Content\"].unique()"
   ]
  },
  {
   "cell_type": "code",
   "execution_count": 19,
   "id": "3c47ae9f",
   "metadata": {
    "execution": {
     "iopub.execute_input": "2023-04-15T07:31:10.444913Z",
     "iopub.status.busy": "2023-04-15T07:31:10.444453Z",
     "iopub.status.idle": "2023-04-15T07:31:10.460662Z",
     "shell.execute_reply": "2023-04-15T07:31:10.459202Z"
    },
    "papermill": {
     "duration": 0.036049,
     "end_time": "2023-04-15T07:31:10.462961",
     "exception": false,
     "start_time": "2023-04-15T07:31:10.426912",
     "status": "completed"
    },
    "tags": []
   },
   "outputs": [
    {
     "name": "stdout",
     "output_type": "stream",
     "text": [
      "<class 'pandas.core.frame.DataFrame'>\n",
      "RangeIndex: 8523 entries, 0 to 8522\n",
      "Data columns (total 12 columns):\n",
      " #   Column                     Non-Null Count  Dtype  \n",
      "---  ------                     --------------  -----  \n",
      " 0   Item_Identifier            8523 non-null   object \n",
      " 1   Item_Weight                7060 non-null   float64\n",
      " 2   Item_Fat_Content           8523 non-null   object \n",
      " 3   Item_Visibility            8523 non-null   float64\n",
      " 4   Item_Type                  8523 non-null   object \n",
      " 5   Item_MRP                   8523 non-null   float64\n",
      " 6   Outlet_Identifier          8523 non-null   object \n",
      " 7   Outlet_Establishment_Year  8523 non-null   int64  \n",
      " 8   Outlet_Size                6113 non-null   object \n",
      " 9   Outlet_Location_Type       8523 non-null   object \n",
      " 10  Outlet_Type                8523 non-null   object \n",
      " 11  Item_Outlet_Sales          8523 non-null   float64\n",
      "dtypes: float64(4), int64(1), object(7)\n",
      "memory usage: 799.2+ KB\n"
     ]
    }
   ],
   "source": [
    "df_train.info()"
   ]
  },
  {
   "cell_type": "markdown",
   "id": "24becbae",
   "metadata": {
    "papermill": {
     "duration": 0.01581,
     "end_time": "2023-04-15T07:31:10.494927",
     "exception": false,
     "start_time": "2023-04-15T07:31:10.479117",
     "status": "completed"
    },
    "tags": []
   },
   "source": [
    "let's handle missing values\n"
   ]
  },
  {
   "cell_type": "code",
   "execution_count": 20,
   "id": "b2aa9788",
   "metadata": {
    "execution": {
     "iopub.execute_input": "2023-04-15T07:31:10.529102Z",
     "iopub.status.busy": "2023-04-15T07:31:10.528508Z",
     "iopub.status.idle": "2023-04-15T07:31:10.812020Z",
     "shell.execute_reply": "2023-04-15T07:31:10.811067Z"
    },
    "papermill": {
     "duration": 0.303333,
     "end_time": "2023-04-15T07:31:10.814287",
     "exception": false,
     "start_time": "2023-04-15T07:31:10.510954",
     "status": "completed"
    },
    "tags": []
   },
   "outputs": [
    {
     "data": {
      "image/png": "[encoded data removed]",
      "text/plain": [
       "<Figure size 640x480 with 1 Axes>"
      ]
     },
     "metadata": {},
     "output_type": "display_data"
    }
   ],
   "source": [
    "df_train.groupby([\"Item_Fat_Content\"])[\"Item_Weight\"].sum().plot(kind = \"bar\");"
   ]
  },
  {
   "cell_type": "code",
   "execution_count": 21,
   "id": "734244bf",
   "metadata": {
    "execution": {
     "iopub.execute_input": "2023-04-15T07:31:10.850394Z",
     "iopub.status.busy": "2023-04-15T07:31:10.849175Z",
     "iopub.status.idle": "2023-04-15T07:31:11.163211Z",
     "shell.execute_reply": "2023-04-15T07:31:11.162275Z"
    },
    "papermill": {
     "duration": 0.334651,
     "end_time": "2023-04-15T07:31:11.165614",
     "exception": false,
     "start_time": "2023-04-15T07:31:10.830963",
     "status": "completed"
    },
    "tags": []
   },
   "outputs": [
    {
     "data": {
      "image/png": "[encoded data removed]",
      "text/plain": [
       "<Figure size 640x480 with 1 Axes>"
      ]
     },
     "metadata": {},
     "output_type": "display_data"
    }
   ],
   "source": [
    "df_train.groupby([\"Item_Type\"])[\"Item_Weight\"].sum().sort_values().plot(kind = \"barh\");"
   ]
  },
  {
   "cell_type": "code",
   "execution_count": 22,
   "id": "797a1fdf",
   "metadata": {
    "execution": {
     "iopub.execute_input": "2023-04-15T07:31:11.202886Z",
     "iopub.status.busy": "2023-04-15T07:31:11.201507Z",
     "iopub.status.idle": "2023-04-15T07:31:11.213020Z",
     "shell.execute_reply": "2023-04-15T07:31:11.211572Z"
    },
    "papermill": {
     "duration": 0.03219,
     "end_time": "2023-04-15T07:31:11.215351",
     "exception": false,
     "start_time": "2023-04-15T07:31:11.183161",
     "status": "completed"
    },
    "tags": []
   },
   "outputs": [
    {
     "data": {
      "text/plain": [
       "Item_Type\n",
       "Baking Goods             12.277108\n",
       "Breads                   11.346936\n",
       "Breakfast                12.768202\n",
       "Canned                   12.305705\n",
       "Dairy                    13.426069\n",
       "Frozen Foods             12.867061\n",
       "Fruits and Vegetables    13.224769\n",
       "Hard Drinks              11.400328\n",
       "Health and Hygiene       13.142314\n",
       "Household                13.384736\n",
       "Meat                     12.817344\n",
       "Others                   13.853285\n",
       "Seafood                  12.552843\n",
       "Snack Foods              12.987880\n",
       "Soft Drinks              11.847460\n",
       "Starchy Foods            13.690731\n",
       "Name: Item_Weight, dtype: float64"
      ]
     },
     "execution_count": 22,
     "metadata": {},
     "output_type": "execute_result"
    }
   ],
   "source": [
    "df_train.groupby([\"Item_Type\"])[\"Item_Weight\"].mean()"
   ]
  },
  {
   "cell_type": "code",
   "execution_count": 23,
   "id": "7080ebbf",
   "metadata": {
    "execution": {
     "iopub.execute_input": "2023-04-15T07:31:11.251618Z",
     "iopub.status.busy": "2023-04-15T07:31:11.250976Z",
     "iopub.status.idle": "2023-04-15T07:31:11.257142Z",
     "shell.execute_reply": "2023-04-15T07:31:11.256058Z"
    },
    "papermill": {
     "duration": 0.026733,
     "end_time": "2023-04-15T07:31:11.259423",
     "exception": false,
     "start_time": "2023-04-15T07:31:11.232690",
     "status": "completed"
    },
    "tags": []
   },
   "outputs": [],
   "source": [
    "#the data has the same mean nearly so we can fill the missing values with the mean \n",
    "df_train[\"Item_Weight\"].fillna(df_train[\"Item_Weight\"].mean() , inplace = True)"
   ]
  },
  {
   "cell_type": "code",
   "execution_count": 24,
   "id": "41a70103",
   "metadata": {
    "execution": {
     "iopub.execute_input": "2023-04-15T07:31:11.297095Z",
     "iopub.status.busy": "2023-04-15T07:31:11.296420Z",
     "iopub.status.idle": "2023-04-15T07:31:11.312957Z",
     "shell.execute_reply": "2023-04-15T07:31:11.311695Z"
    },
    "papermill": {
     "duration": 0.038147,
     "end_time": "2023-04-15T07:31:11.315410",
     "exception": false,
     "start_time": "2023-04-15T07:31:11.277263",
     "status": "completed"
    },
    "tags": []
   },
   "outputs": [
    {
     "name": "stdout",
     "output_type": "stream",
     "text": [
      "<class 'pandas.core.frame.DataFrame'>\n",
      "RangeIndex: 8523 entries, 0 to 8522\n",
      "Data columns (total 12 columns):\n",
      " #   Column                     Non-Null Count  Dtype  \n",
      "---  ------                     --------------  -----  \n",
      " 0   Item_Identifier            8523 non-null   object \n",
      " 1   Item_Weight                8523 non-null   float64\n",
      " 2   Item_Fat_Content           8523 non-null   object \n",
      " 3   Item_Visibility            8523 non-null   float64\n",
      " 4   Item_Type                  8523 non-null   object \n",
      " 5   Item_MRP                   8523 non-null   float64\n",
      " 6   Outlet_Identifier          8523 non-null   object \n",
      " 7   Outlet_Establishment_Year  8523 non-null   int64  \n",
      " 8   Outlet_Size                6113 non-null   object \n",
      " 9   Outlet_Location_Type       8523 non-null   object \n",
      " 10  Outlet_Type                8523 non-null   object \n",
      " 11  Item_Outlet_Sales          8523 non-null   float64\n",
      "dtypes: float64(4), int64(1), object(7)\n",
      "memory usage: 799.2+ KB\n"
     ]
    }
   ],
   "source": [
    "df_train.info()"
   ]
  },
  {
   "cell_type": "code",
   "execution_count": 25,
   "id": "5962d25f",
   "metadata": {
    "execution": {
     "iopub.execute_input": "2023-04-15T07:31:11.352838Z",
     "iopub.status.busy": "2023-04-15T07:31:11.351740Z",
     "iopub.status.idle": "2023-04-15T07:31:11.361826Z",
     "shell.execute_reply": "2023-04-15T07:31:11.360711Z"
    },
    "papermill": {
     "duration": 0.030958,
     "end_time": "2023-04-15T07:31:11.364228",
     "exception": false,
     "start_time": "2023-04-15T07:31:11.333270",
     "status": "completed"
    },
    "tags": []
   },
   "outputs": [
    {
     "data": {
      "text/plain": [
       "Medium    2793\n",
       "Small     2388\n",
       "High       932\n",
       "Name: Outlet_Size, dtype: int64"
      ]
     },
     "execution_count": 25,
     "metadata": {},
     "output_type": "execute_result"
    }
   ],
   "source": [
    "df_train[\"Outlet_Size\"].value_counts()"
   ]
  },
  {
   "cell_type": "code",
   "execution_count": 26,
   "id": "157be3d3",
   "metadata": {
    "execution": {
     "iopub.execute_input": "2023-04-15T07:31:11.400988Z",
     "iopub.status.busy": "2023-04-15T07:31:11.400517Z",
     "iopub.status.idle": "2023-04-15T07:31:11.414667Z",
     "shell.execute_reply": "2023-04-15T07:31:11.413489Z"
    },
    "papermill": {
     "duration": 0.035562,
     "end_time": "2023-04-15T07:31:11.417313",
     "exception": false,
     "start_time": "2023-04-15T07:31:11.381751",
     "status": "completed"
    },
    "tags": []
   },
   "outputs": [
    {
     "data": {
      "text/plain": [
       "Outlet_Type        Outlet_Size\n",
       "Grocery Store      Small           528\n",
       "Supermarket Type1  Small          1860\n",
       "                   High            932\n",
       "                   Medium          930\n",
       "Supermarket Type2  Medium          928\n",
       "Supermarket Type3  Medium          935\n",
       "Name: Outlet_Size, dtype: int64"
      ]
     },
     "execution_count": 26,
     "metadata": {},
     "output_type": "execute_result"
    }
   ],
   "source": [
    "df_train.groupby([\"Outlet_Type\"])[\"Outlet_Size\"].value_counts()"
   ]
  },
  {
   "cell_type": "markdown",
   "id": "924a0bef",
   "metadata": {
    "papermill": {
     "duration": 0.01734,
     "end_time": "2023-04-15T07:31:11.453109",
     "exception": false,
     "start_time": "2023-04-15T07:31:11.435769",
     "status": "completed"
    },
    "tags": []
   },
   "source": [
    "show how many nan values in each outlet type"
   ]
  },
  {
   "cell_type": "code",
   "execution_count": 27,
   "id": "c3a1852a",
   "metadata": {
    "execution": {
     "iopub.execute_input": "2023-04-15T07:31:11.491125Z",
     "iopub.status.busy": "2023-04-15T07:31:11.490699Z",
     "iopub.status.idle": "2023-04-15T07:31:11.501483Z",
     "shell.execute_reply": "2023-04-15T07:31:11.500368Z"
    },
    "papermill": {
     "duration": 0.03312,
     "end_time": "2023-04-15T07:31:11.504012",
     "exception": false,
     "start_time": "2023-04-15T07:31:11.470892",
     "status": "completed"
    },
    "tags": []
   },
   "outputs": [
    {
     "data": {
      "text/plain": [
       "555"
      ]
     },
     "execution_count": 27,
     "metadata": {},
     "output_type": "execute_result"
    }
   ],
   "source": [
    "df_train[(df_train['Outlet_Type'] == \"Grocery Store\") ]['Outlet_Size'].isna().sum()"
   ]
  },
  {
   "cell_type": "code",
   "execution_count": 28,
   "id": "6343410e",
   "metadata": {
    "execution": {
     "iopub.execute_input": "2023-04-15T07:31:11.542472Z",
     "iopub.status.busy": "2023-04-15T07:31:11.542066Z",
     "iopub.status.idle": "2023-04-15T07:31:11.553561Z",
     "shell.execute_reply": "2023-04-15T07:31:11.552501Z"
    },
    "papermill": {
     "duration": 0.033619,
     "end_time": "2023-04-15T07:31:11.555977",
     "exception": false,
     "start_time": "2023-04-15T07:31:11.522358",
     "status": "completed"
    },
    "tags": []
   },
   "outputs": [
    {
     "data": {
      "text/plain": [
       "1855"
      ]
     },
     "execution_count": 28,
     "metadata": {},
     "output_type": "execute_result"
    }
   ],
   "source": [
    "df_train[(df_train['Outlet_Type'] == \"Supermarket Type1\") ]['Outlet_Size'].isna().sum()"
   ]
  },
  {
   "cell_type": "code",
   "execution_count": 29,
   "id": "f01da33b",
   "metadata": {
    "execution": {
     "iopub.execute_input": "2023-04-15T07:31:11.594195Z",
     "iopub.status.busy": "2023-04-15T07:31:11.593778Z",
     "iopub.status.idle": "2023-04-15T07:31:11.603520Z",
     "shell.execute_reply": "2023-04-15T07:31:11.602470Z"
    },
    "papermill": {
     "duration": 0.031609,
     "end_time": "2023-04-15T07:31:11.605653",
     "exception": false,
     "start_time": "2023-04-15T07:31:11.574044",
     "status": "completed"
    },
    "tags": []
   },
   "outputs": [
    {
     "data": {
      "text/plain": [
       "0"
      ]
     },
     "execution_count": 29,
     "metadata": {},
     "output_type": "execute_result"
    }
   ],
   "source": [
    "df_train[(df_train['Outlet_Type'] == \"Supermarket Type2\") ]['Outlet_Size'].isna().sum()"
   ]
  },
  {
   "cell_type": "code",
   "execution_count": 30,
   "id": "61529b22",
   "metadata": {
    "execution": {
     "iopub.execute_input": "2023-04-15T07:31:11.643264Z",
     "iopub.status.busy": "2023-04-15T07:31:11.642886Z",
     "iopub.status.idle": "2023-04-15T07:31:11.652717Z",
     "shell.execute_reply": "2023-04-15T07:31:11.651694Z"
    },
    "papermill": {
     "duration": 0.031579,
     "end_time": "2023-04-15T07:31:11.655014",
     "exception": false,
     "start_time": "2023-04-15T07:31:11.623435",
     "status": "completed"
    },
    "tags": []
   },
   "outputs": [
    {
     "data": {
      "text/plain": [
       "0"
      ]
     },
     "execution_count": 30,
     "metadata": {},
     "output_type": "execute_result"
    }
   ],
   "source": [
    "df_train[(df_train['Outlet_Type'] == \"Supermarket Type3\") ]['Outlet_Size'].isna().sum()"
   ]
  },
  {
   "cell_type": "markdown",
   "id": "929a45c6",
   "metadata": {
    "papermill": {
     "duration": 0.017891,
     "end_time": "2023-04-15T07:31:11.690995",
     "exception": false,
     "start_time": "2023-04-15T07:31:11.673104",
     "status": "completed"
    },
    "tags": []
   },
   "source": [
    "all missing values are in \"Grocery Store\" and \"Supermarket Type1\" so let's fill it with the mode "
   ]
  },
  {
   "cell_type": "code",
   "execution_count": 31,
   "id": "d4751111",
   "metadata": {
    "execution": {
     "iopub.execute_input": "2023-04-15T07:31:11.728408Z",
     "iopub.status.busy": "2023-04-15T07:31:11.728026Z",
     "iopub.status.idle": "2023-04-15T07:31:11.734489Z",
     "shell.execute_reply": "2023-04-15T07:31:11.733270Z"
    },
    "papermill": {
     "duration": 0.028292,
     "end_time": "2023-04-15T07:31:11.737025",
     "exception": false,
     "start_time": "2023-04-15T07:31:11.708733",
     "status": "completed"
    },
    "tags": []
   },
   "outputs": [],
   "source": [
    "df_train[\"Outlet_Size\"].fillna(\"Small\" , inplace = True)"
   ]
  },
  {
   "cell_type": "code",
   "execution_count": 32,
   "id": "61448584",
   "metadata": {
    "execution": {
     "iopub.execute_input": "2023-04-15T07:31:11.774864Z",
     "iopub.status.busy": "2023-04-15T07:31:11.774482Z",
     "iopub.status.idle": "2023-04-15T07:31:11.791654Z",
     "shell.execute_reply": "2023-04-15T07:31:11.790320Z"
    },
    "papermill": {
     "duration": 0.038627,
     "end_time": "2023-04-15T07:31:11.793766",
     "exception": false,
     "start_time": "2023-04-15T07:31:11.755139",
     "status": "completed"
    },
    "tags": []
   },
   "outputs": [
    {
     "name": "stdout",
     "output_type": "stream",
     "text": [
      "<class 'pandas.core.frame.DataFrame'>\n",
      "RangeIndex: 8523 entries, 0 to 8522\n",
      "Data columns (total 12 columns):\n",
      " #   Column                     Non-Null Count  Dtype  \n",
      "---  ------                     --------------  -----  \n",
      " 0   Item_Identifier            8523 non-null   object \n",
      " 1   Item_Weight                8523 non-null   float64\n",
      " 2   Item_Fat_Content           8523 non-null   object \n",
      " 3   Item_Visibility            8523 non-null   float64\n",
      " 4   Item_Type                  8523 non-null   object \n",
      " 5   Item_MRP                   8523 non-null   float64\n",
      " 6   Outlet_Identifier          8523 non-null   object \n",
      " 7   Outlet_Establishment_Year  8523 non-null   int64  \n",
      " 8   Outlet_Size                8523 non-null   object \n",
      " 9   Outlet_Location_Type       8523 non-null   object \n",
      " 10  Outlet_Type                8523 non-null   object \n",
      " 11  Item_Outlet_Sales          8523 non-null   float64\n",
      "dtypes: float64(4), int64(1), object(7)\n",
      "memory usage: 799.2+ KB\n"
     ]
    }
   ],
   "source": [
    "df_train.info()"
   ]
  },
  {
   "cell_type": "markdown",
   "id": "901fc87b",
   "metadata": {
    "papermill": {
     "duration": 0.017536,
     "end_time": "2023-04-15T07:31:11.829365",
     "exception": false,
     "start_time": "2023-04-15T07:31:11.811829",
     "status": "completed"
    },
    "tags": []
   },
   "source": [
    "which outlet has high sales ?"
   ]
  },
  {
   "cell_type": "code",
   "execution_count": 33,
   "id": "c4bff265",
   "metadata": {
    "execution": {
     "iopub.execute_input": "2023-04-15T07:31:11.867876Z",
     "iopub.status.busy": "2023-04-15T07:31:11.866451Z",
     "iopub.status.idle": "2023-04-15T07:31:12.171225Z",
     "shell.execute_reply": "2023-04-15T07:31:12.169887Z"
    },
    "papermill": {
     "duration": 0.326584,
     "end_time": "2023-04-15T07:31:12.173678",
     "exception": false,
     "start_time": "2023-04-15T07:31:11.847094",
     "status": "completed"
    },
    "tags": []
   },
   "outputs": [
    {
     "data": {
      "image/png": "[encoded data removed]",
      "text/plain": [
       "<Figure size 1200x900 with 1 Axes>"
      ]
     },
     "metadata": {},
     "output_type": "display_data"
    }
   ],
   "source": [
    "plt.figure(figsize=(12,9))\n",
    "df_train.groupby([\"Outlet_Identifier\"])[\"Item_Outlet_Sales\"].sum().sort_values(ascending=False).plot(kind = \"barh\");"
   ]
  },
  {
   "cell_type": "markdown",
   "id": "2972a248",
   "metadata": {
    "papermill": {
     "duration": 0.018216,
     "end_time": "2023-04-15T07:31:12.212017",
     "exception": false,
     "start_time": "2023-04-15T07:31:12.193801",
     "status": "completed"
    },
    "tags": []
   },
   "source": [
    "why out10 and out19 have the lowest sales ?\n",
    "why out27 has the highest sales ?"
   ]
  },
  {
   "cell_type": "code",
   "execution_count": 34,
   "id": "c18be3c1",
   "metadata": {
    "execution": {
     "iopub.execute_input": "2023-04-15T07:31:12.252014Z",
     "iopub.status.busy": "2023-04-15T07:31:12.250843Z",
     "iopub.status.idle": "2023-04-15T07:31:12.269621Z",
     "shell.execute_reply": "2023-04-15T07:31:12.268111Z"
    },
    "papermill": {
     "duration": 0.04159,
     "end_time": "2023-04-15T07:31:12.272124",
     "exception": false,
     "start_time": "2023-04-15T07:31:12.230534",
     "status": "completed"
    },
    "tags": []
   },
   "outputs": [
    {
     "data": {
      "text/html": [
       "<div>\n",
       "<style scoped>\n",
       "    .dataframe tbody tr th:only-of-type {\n",
       "        vertical-align: middle;\n",
       "    }\n",
       "\n",
       "    .dataframe tbody tr th {\n",
       "        vertical-align: top;\n",
       "    }\n",
       "\n",
       "    .dataframe thead th {\n",
       "        text-align: right;\n",
       "    }\n",
       "</style>\n",
       "<table border=\"1\" class=\"dataframe\">\n",
       "  <thead>\n",
       "    <tr style=\"text-align: right;\">\n",
       "      <th></th>\n",
       "      <th>Item_Identifier</th>\n",
       "      <th>Item_Weight</th>\n",
       "      <th>Item_Fat_Content</th>\n",
       "      <th>Item_Visibility</th>\n",
       "      <th>Item_Type</th>\n",
       "      <th>Item_MRP</th>\n",
       "      <th>Outlet_Identifier</th>\n",
       "      <th>Outlet_Establishment_Year</th>\n",
       "      <th>Outlet_Size</th>\n",
       "      <th>Outlet_Location_Type</th>\n",
       "      <th>Outlet_Type</th>\n",
       "      <th>Item_Outlet_Sales</th>\n",
       "    </tr>\n",
       "  </thead>\n",
       "  <tbody>\n",
       "    <tr>\n",
       "      <th>0</th>\n",
       "      <td>FDA15</td>\n",
       "      <td>9.30</td>\n",
       "      <td>Low Fat</td>\n",
       "      <td>0.016047</td>\n",
       "      <td>Dairy</td>\n",
       "      <td>249.8092</td>\n",
       "      <td>OUT049</td>\n",
       "      <td>1999</td>\n",
       "      <td>Medium</td>\n",
       "      <td>Tier 1</td>\n",
       "      <td>Supermarket Type1</td>\n",
       "      <td>3735.1380</td>\n",
       "    </tr>\n",
       "    <tr>\n",
       "      <th>1</th>\n",
       "      <td>DRC01</td>\n",
       "      <td>5.92</td>\n",
       "      <td>Regular</td>\n",
       "      <td>0.019278</td>\n",
       "      <td>Soft Drinks</td>\n",
       "      <td>48.2692</td>\n",
       "      <td>OUT018</td>\n",
       "      <td>2009</td>\n",
       "      <td>Medium</td>\n",
       "      <td>Tier 3</td>\n",
       "      <td>Supermarket Type2</td>\n",
       "      <td>443.4228</td>\n",
       "    </tr>\n",
       "    <tr>\n",
       "      <th>2</th>\n",
       "      <td>FDN15</td>\n",
       "      <td>17.50</td>\n",
       "      <td>Low Fat</td>\n",
       "      <td>0.016760</td>\n",
       "      <td>Meat</td>\n",
       "      <td>141.6180</td>\n",
       "      <td>OUT049</td>\n",
       "      <td>1999</td>\n",
       "      <td>Medium</td>\n",
       "      <td>Tier 1</td>\n",
       "      <td>Supermarket Type1</td>\n",
       "      <td>2097.2700</td>\n",
       "    </tr>\n",
       "    <tr>\n",
       "      <th>3</th>\n",
       "      <td>FDX07</td>\n",
       "      <td>19.20</td>\n",
       "      <td>Regular</td>\n",
       "      <td>0.000000</td>\n",
       "      <td>Fruits and Vegetables</td>\n",
       "      <td>182.0950</td>\n",
       "      <td>OUT010</td>\n",
       "      <td>1998</td>\n",
       "      <td>Small</td>\n",
       "      <td>Tier 3</td>\n",
       "      <td>Grocery Store</td>\n",
       "      <td>732.3800</td>\n",
       "    </tr>\n",
       "    <tr>\n",
       "      <th>4</th>\n",
       "      <td>NCD19</td>\n",
       "      <td>8.93</td>\n",
       "      <td>Low Fat</td>\n",
       "      <td>0.000000</td>\n",
       "      <td>Household</td>\n",
       "      <td>53.8614</td>\n",
       "      <td>OUT013</td>\n",
       "      <td>1987</td>\n",
       "      <td>High</td>\n",
       "      <td>Tier 3</td>\n",
       "      <td>Supermarket Type1</td>\n",
       "      <td>994.7052</td>\n",
       "    </tr>\n",
       "  </tbody>\n",
       "</table>\n",
       "</div>"
      ],
      "text/plain": [
       "  Item_Identifier  Item_Weight Item_Fat_Content  Item_Visibility  \\\n",
       "0           FDA15         9.30          Low Fat         0.016047   \n",
       "1           DRC01         5.92          Regular         0.019278   \n",
       "2           FDN15        17.50          Low Fat         0.016760   \n",
       "3           FDX07        19.20          Regular         0.000000   \n",
       "4           NCD19         8.93          Low Fat         0.000000   \n",
       "\n",
       "               Item_Type  Item_MRP Outlet_Identifier  \\\n",
       "0                  Dairy  249.8092            OUT049   \n",
       "1            Soft Drinks   48.2692            OUT018   \n",
       "2                   Meat  141.6180            OUT049   \n",
       "3  Fruits and Vegetables  182.0950            OUT010   \n",
       "4              Household   53.8614            OUT013   \n",
       "\n",
       "   Outlet_Establishment_Year Outlet_Size Outlet_Location_Type  \\\n",
       "0                       1999      Medium               Tier 1   \n",
       "1                       2009      Medium               Tier 3   \n",
       "2                       1999      Medium               Tier 1   \n",
       "3                       1998       Small               Tier 3   \n",
       "4                       1987        High               Tier 3   \n",
       "\n",
       "         Outlet_Type  Item_Outlet_Sales  \n",
       "0  Supermarket Type1          3735.1380  \n",
       "1  Supermarket Type2           443.4228  \n",
       "2  Supermarket Type1          2097.2700  \n",
       "3      Grocery Store           732.3800  \n",
       "4  Supermarket Type1           994.7052  "
      ]
     },
     "execution_count": 34,
     "metadata": {},
     "output_type": "execute_result"
    }
   ],
   "source": [
    "df_train.head()"
   ]
  },
  {
   "cell_type": "code",
   "execution_count": 35,
   "id": "1e7b4e03",
   "metadata": {
    "execution": {
     "iopub.execute_input": "2023-04-15T07:31:12.312081Z",
     "iopub.status.busy": "2023-04-15T07:31:12.311326Z",
     "iopub.status.idle": "2023-04-15T07:31:12.324457Z",
     "shell.execute_reply": "2023-04-15T07:31:12.323318Z"
    },
    "papermill": {
     "duration": 0.035415,
     "end_time": "2023-04-15T07:31:12.326580",
     "exception": false,
     "start_time": "2023-04-15T07:31:12.291165",
     "status": "completed"
    },
    "tags": []
   },
   "outputs": [
    {
     "data": {
      "text/plain": [
       "Outlet_Identifier  Outlet_Type      \n",
       "OUT010             Grocery Store        555\n",
       "OUT013             Supermarket Type1    932\n",
       "OUT017             Supermarket Type1    926\n",
       "OUT018             Supermarket Type2    928\n",
       "OUT019             Grocery Store        528\n",
       "OUT027             Supermarket Type3    935\n",
       "OUT035             Supermarket Type1    930\n",
       "OUT045             Supermarket Type1    929\n",
       "OUT046             Supermarket Type1    930\n",
       "OUT049             Supermarket Type1    930\n",
       "Name: Outlet_Type, dtype: int64"
      ]
     },
     "execution_count": 35,
     "metadata": {},
     "output_type": "execute_result"
    }
   ],
   "source": [
    "df_train.groupby([\"Outlet_Identifier\"])[\"Outlet_Type\"].value_counts()"
   ]
  },
  {
   "cell_type": "markdown",
   "id": "27a1dfac",
   "metadata": {
    "papermill": {
     "duration": 0.018518,
     "end_time": "2023-04-15T07:31:12.364075",
     "exception": false,
     "start_time": "2023-04-15T07:31:12.345557",
     "status": "completed"
    },
    "tags": []
   },
   "source": [
    " outlet10 and outlet19 are grecory store but outlet27 is supermarket3 "
   ]
  },
  {
   "cell_type": "markdown",
   "id": "58aaeeff",
   "metadata": {
    "papermill": {
     "duration": 0.018703,
     "end_time": "2023-04-15T07:31:12.401783",
     "exception": false,
     "start_time": "2023-04-15T07:31:12.383080",
     "status": "completed"
    },
    "tags": []
   },
   "source": [
    "is there a relation between outlet location and sales?"
   ]
  },
  {
   "cell_type": "code",
   "execution_count": 36,
   "id": "4c196bae",
   "metadata": {
    "execution": {
     "iopub.execute_input": "2023-04-15T07:31:12.441876Z",
     "iopub.status.busy": "2023-04-15T07:31:12.441127Z",
     "iopub.status.idle": "2023-04-15T07:31:12.657636Z",
     "shell.execute_reply": "2023-04-15T07:31:12.656748Z"
    },
    "papermill": {
     "duration": 0.238955,
     "end_time": "2023-04-15T07:31:12.659684",
     "exception": false,
     "start_time": "2023-04-15T07:31:12.420729",
     "status": "completed"
    },
    "tags": []
   },
   "outputs": [
    {
     "data": {
      "image/png": "[encoded data removed]",
      "text/plain": [
       "<Figure size 640x480 with 1 Axes>"
      ]
     },
     "metadata": {},
     "output_type": "display_data"
    }
   ],
   "source": [
    "df_train.groupby([\"Outlet_Location_Type\"])[\"Item_Outlet_Sales\"].sum().plot(kind = \"barh\");"
   ]
  },
  {
   "cell_type": "markdown",
   "id": "c102d775",
   "metadata": {
    "papermill": {
     "duration": 0.018775,
     "end_time": "2023-04-15T07:31:12.697459",
     "exception": false,
     "start_time": "2023-04-15T07:31:12.678684",
     "status": "completed"
    },
    "tags": []
   },
   "source": [
    "what is the highest outlet size?"
   ]
  },
  {
   "cell_type": "code",
   "execution_count": 37,
   "id": "8a0d5b96",
   "metadata": {
    "execution": {
     "iopub.execute_input": "2023-04-15T07:31:12.738137Z",
     "iopub.status.busy": "2023-04-15T07:31:12.737138Z",
     "iopub.status.idle": "2023-04-15T07:31:12.745950Z",
     "shell.execute_reply": "2023-04-15T07:31:12.744860Z"
    },
    "papermill": {
     "duration": 0.031331,
     "end_time": "2023-04-15T07:31:12.748179",
     "exception": false,
     "start_time": "2023-04-15T07:31:12.716848",
     "status": "completed"
    },
    "tags": []
   },
   "outputs": [
    {
     "data": {
      "text/plain": [
       "Small     4798\n",
       "Medium    2793\n",
       "High       932\n",
       "Name: Outlet_Size, dtype: int64"
      ]
     },
     "execution_count": 37,
     "metadata": {},
     "output_type": "execute_result"
    }
   ],
   "source": [
    "df_train[\"Outlet_Size\"].value_counts()"
   ]
  },
  {
   "cell_type": "code",
   "execution_count": 38,
   "id": "88ce39f5",
   "metadata": {
    "execution": {
     "iopub.execute_input": "2023-04-15T07:31:12.788503Z",
     "iopub.status.busy": "2023-04-15T07:31:12.788087Z",
     "iopub.status.idle": "2023-04-15T07:31:12.794360Z",
     "shell.execute_reply": "2023-04-15T07:31:12.793528Z"
    },
    "papermill": {
     "duration": 0.028896,
     "end_time": "2023-04-15T07:31:12.796295",
     "exception": false,
     "start_time": "2023-04-15T07:31:12.767399",
     "status": "completed"
    },
    "tags": []
   },
   "outputs": [],
   "source": [
    "## delete \"Outlet_Establishment_Year\" column\n",
    "df_train.drop(columns=['Outlet_Establishment_Year'], inplace=True)"
   ]
  },
  {
   "cell_type": "raw",
   "id": "4ac54fab",
   "metadata": {
    "papermill": {
     "duration": 0.018919,
     "end_time": "2023-04-15T07:31:12.834064",
     "exception": false,
     "start_time": "2023-04-15T07:31:12.815145",
     "status": "completed"
    },
    "tags": []
   },
   "source": [
    "insights:\n",
    "1- Fruits and Vegetables are the top selling products\n",
    "2 - outlet 27 has highest sales \n",
    "3- yes there is the relation between the location and sales\n",
    "4 - the small products are the highest number of sales "
   ]
  },
  {
   "cell_type": "markdown",
   "id": "6dceff27",
   "metadata": {
    "papermill": {
     "duration": 0.020296,
     "end_time": "2023-04-15T07:31:12.873489",
     "exception": false,
     "start_time": "2023-04-15T07:31:12.853193",
     "status": "completed"
    },
    "tags": []
   },
   "source": [
    "# Buliding model"
   ]
  },
  {
   "cell_type": "code",
   "execution_count": 39,
   "id": "c20a13e7",
   "metadata": {
    "execution": {
     "iopub.execute_input": "2023-04-15T07:31:12.916981Z",
     "iopub.status.busy": "2023-04-15T07:31:12.915780Z",
     "iopub.status.idle": "2023-04-15T07:31:13.590670Z",
     "shell.execute_reply": "2023-04-15T07:31:13.589245Z"
    },
    "papermill": {
     "duration": 0.698638,
     "end_time": "2023-04-15T07:31:13.593509",
     "exception": false,
     "start_time": "2023-04-15T07:31:12.894871",
     "status": "completed"
    },
    "tags": []
   },
   "outputs": [],
   "source": [
    "#importing sklearn libraries\n",
    "\n",
    "from sklearn.model_selection import train_test_split\n",
    "## linear regression model\n",
    "from sklearn.linear_model import LinearRegression, Lasso\n",
    "#DecisionTreeRegressor model\n",
    "from sklearn.tree import DecisionTreeRegressor\n",
    "#RandomForestRegressor\n",
    "from sklearn.ensemble import RandomForestRegressor\n",
    "#xgboost\n",
    "from xgboost import XGBRegressor\n",
    "# Fine-Tune using GridSearchCV\n",
    "from sklearn.model_selection import GridSearchCV\n",
    "from sklearn.preprocessing import LabelEncoder\n",
    "from sklearn.metrics import r2_score"
   ]
  },
  {
   "cell_type": "code",
   "execution_count": 40,
   "id": "676d3e45",
   "metadata": {
    "execution": {
     "iopub.execute_input": "2023-04-15T07:31:13.635417Z",
     "iopub.status.busy": "2023-04-15T07:31:13.635000Z",
     "iopub.status.idle": "2023-04-15T07:31:13.680127Z",
     "shell.execute_reply": "2023-04-15T07:31:13.678785Z"
    },
    "papermill": {
     "duration": 0.069093,
     "end_time": "2023-04-15T07:31:13.682697",
     "exception": false,
     "start_time": "2023-04-15T07:31:13.613604",
     "status": "completed"
    },
    "tags": []
   },
   "outputs": [
    {
     "data": {
      "text/html": [
       "<div>\n",
       "<style scoped>\n",
       "    .dataframe tbody tr th:only-of-type {\n",
       "        vertical-align: middle;\n",
       "    }\n",
       "\n",
       "    .dataframe tbody tr th {\n",
       "        vertical-align: top;\n",
       "    }\n",
       "\n",
       "    .dataframe thead th {\n",
       "        text-align: right;\n",
       "    }\n",
       "</style>\n",
       "<table border=\"1\" class=\"dataframe\">\n",
       "  <thead>\n",
       "    <tr style=\"text-align: right;\">\n",
       "      <th></th>\n",
       "      <th>Item_Identifier</th>\n",
       "      <th>Item_Weight</th>\n",
       "      <th>Item_Fat_Content</th>\n",
       "      <th>Item_Visibility</th>\n",
       "      <th>Item_Type</th>\n",
       "      <th>Item_MRP</th>\n",
       "      <th>Outlet_Identifier</th>\n",
       "      <th>Outlet_Size</th>\n",
       "      <th>Outlet_Location_Type</th>\n",
       "      <th>Outlet_Type</th>\n",
       "      <th>Item_Outlet_Sales</th>\n",
       "    </tr>\n",
       "  </thead>\n",
       "  <tbody>\n",
       "    <tr>\n",
       "      <th>0</th>\n",
       "      <td>156</td>\n",
       "      <td>9.300</td>\n",
       "      <td>0</td>\n",
       "      <td>0.016047</td>\n",
       "      <td>4</td>\n",
       "      <td>249.8092</td>\n",
       "      <td>9</td>\n",
       "      <td>1</td>\n",
       "      <td>0</td>\n",
       "      <td>1</td>\n",
       "      <td>3735.1380</td>\n",
       "    </tr>\n",
       "    <tr>\n",
       "      <th>1</th>\n",
       "      <td>8</td>\n",
       "      <td>5.920</td>\n",
       "      <td>1</td>\n",
       "      <td>0.019278</td>\n",
       "      <td>14</td>\n",
       "      <td>48.2692</td>\n",
       "      <td>3</td>\n",
       "      <td>1</td>\n",
       "      <td>2</td>\n",
       "      <td>2</td>\n",
       "      <td>443.4228</td>\n",
       "    </tr>\n",
       "    <tr>\n",
       "      <th>2</th>\n",
       "      <td>662</td>\n",
       "      <td>17.500</td>\n",
       "      <td>0</td>\n",
       "      <td>0.016760</td>\n",
       "      <td>10</td>\n",
       "      <td>141.6180</td>\n",
       "      <td>9</td>\n",
       "      <td>1</td>\n",
       "      <td>0</td>\n",
       "      <td>1</td>\n",
       "      <td>2097.2700</td>\n",
       "    </tr>\n",
       "    <tr>\n",
       "      <th>3</th>\n",
       "      <td>1121</td>\n",
       "      <td>19.200</td>\n",
       "      <td>1</td>\n",
       "      <td>0.000000</td>\n",
       "      <td>6</td>\n",
       "      <td>182.0950</td>\n",
       "      <td>0</td>\n",
       "      <td>2</td>\n",
       "      <td>2</td>\n",
       "      <td>0</td>\n",
       "      <td>732.3800</td>\n",
       "    </tr>\n",
       "    <tr>\n",
       "      <th>4</th>\n",
       "      <td>1297</td>\n",
       "      <td>8.930</td>\n",
       "      <td>0</td>\n",
       "      <td>0.000000</td>\n",
       "      <td>9</td>\n",
       "      <td>53.8614</td>\n",
       "      <td>1</td>\n",
       "      <td>0</td>\n",
       "      <td>2</td>\n",
       "      <td>1</td>\n",
       "      <td>994.7052</td>\n",
       "    </tr>\n",
       "    <tr>\n",
       "      <th>...</th>\n",
       "      <td>...</td>\n",
       "      <td>...</td>\n",
       "      <td>...</td>\n",
       "      <td>...</td>\n",
       "      <td>...</td>\n",
       "      <td>...</td>\n",
       "      <td>...</td>\n",
       "      <td>...</td>\n",
       "      <td>...</td>\n",
       "      <td>...</td>\n",
       "      <td>...</td>\n",
       "    </tr>\n",
       "    <tr>\n",
       "      <th>8518</th>\n",
       "      <td>370</td>\n",
       "      <td>6.865</td>\n",
       "      <td>0</td>\n",
       "      <td>0.056783</td>\n",
       "      <td>13</td>\n",
       "      <td>214.5218</td>\n",
       "      <td>1</td>\n",
       "      <td>0</td>\n",
       "      <td>2</td>\n",
       "      <td>1</td>\n",
       "      <td>2778.3834</td>\n",
       "    </tr>\n",
       "    <tr>\n",
       "      <th>8519</th>\n",
       "      <td>897</td>\n",
       "      <td>8.380</td>\n",
       "      <td>1</td>\n",
       "      <td>0.046982</td>\n",
       "      <td>0</td>\n",
       "      <td>108.1570</td>\n",
       "      <td>7</td>\n",
       "      <td>2</td>\n",
       "      <td>1</td>\n",
       "      <td>1</td>\n",
       "      <td>549.2850</td>\n",
       "    </tr>\n",
       "    <tr>\n",
       "      <th>8520</th>\n",
       "      <td>1357</td>\n",
       "      <td>10.600</td>\n",
       "      <td>0</td>\n",
       "      <td>0.035186</td>\n",
       "      <td>8</td>\n",
       "      <td>85.1224</td>\n",
       "      <td>6</td>\n",
       "      <td>2</td>\n",
       "      <td>1</td>\n",
       "      <td>1</td>\n",
       "      <td>1193.1136</td>\n",
       "    </tr>\n",
       "    <tr>\n",
       "      <th>8521</th>\n",
       "      <td>681</td>\n",
       "      <td>7.210</td>\n",
       "      <td>1</td>\n",
       "      <td>0.145221</td>\n",
       "      <td>13</td>\n",
       "      <td>103.1332</td>\n",
       "      <td>3</td>\n",
       "      <td>1</td>\n",
       "      <td>2</td>\n",
       "      <td>2</td>\n",
       "      <td>1845.5976</td>\n",
       "    </tr>\n",
       "    <tr>\n",
       "      <th>8522</th>\n",
       "      <td>50</td>\n",
       "      <td>14.800</td>\n",
       "      <td>0</td>\n",
       "      <td>0.044878</td>\n",
       "      <td>14</td>\n",
       "      <td>75.4670</td>\n",
       "      <td>8</td>\n",
       "      <td>2</td>\n",
       "      <td>0</td>\n",
       "      <td>1</td>\n",
       "      <td>765.6700</td>\n",
       "    </tr>\n",
       "  </tbody>\n",
       "</table>\n",
       "<p>8523 rows × 11 columns</p>\n",
       "</div>"
      ],
      "text/plain": [
       "      Item_Identifier  Item_Weight  Item_Fat_Content  Item_Visibility  \\\n",
       "0                 156        9.300                 0         0.016047   \n",
       "1                   8        5.920                 1         0.019278   \n",
       "2                 662       17.500                 0         0.016760   \n",
       "3                1121       19.200                 1         0.000000   \n",
       "4                1297        8.930                 0         0.000000   \n",
       "...               ...          ...               ...              ...   \n",
       "8518              370        6.865                 0         0.056783   \n",
       "8519              897        8.380                 1         0.046982   \n",
       "8520             1357       10.600                 0         0.035186   \n",
       "8521              681        7.210                 1         0.145221   \n",
       "8522               50       14.800                 0         0.044878   \n",
       "\n",
       "      Item_Type  Item_MRP  Outlet_Identifier  Outlet_Size  \\\n",
       "0             4  249.8092                  9            1   \n",
       "1            14   48.2692                  3            1   \n",
       "2            10  141.6180                  9            1   \n",
       "3             6  182.0950                  0            2   \n",
       "4             9   53.8614                  1            0   \n",
       "...         ...       ...                ...          ...   \n",
       "8518         13  214.5218                  1            0   \n",
       "8519          0  108.1570                  7            2   \n",
       "8520          8   85.1224                  6            2   \n",
       "8521         13  103.1332                  3            1   \n",
       "8522         14   75.4670                  8            2   \n",
       "\n",
       "      Outlet_Location_Type  Outlet_Type  Item_Outlet_Sales  \n",
       "0                        0            1          3735.1380  \n",
       "1                        2            2           443.4228  \n",
       "2                        0            1          2097.2700  \n",
       "3                        2            0           732.3800  \n",
       "4                        2            1           994.7052  \n",
       "...                    ...          ...                ...  \n",
       "8518                     2            1          2778.3834  \n",
       "8519                     1            1           549.2850  \n",
       "8520                     1            1          1193.1136  \n",
       "8521                     2            2          1845.5976  \n",
       "8522                     0            1           765.6700  \n",
       "\n",
       "[8523 rows x 11 columns]"
      ]
     },
     "execution_count": 40,
     "metadata": {},
     "output_type": "execute_result"
    }
   ],
   "source": [
    "lencod = LabelEncoder()\n",
    "\n",
    "for i in df_cat:\n",
    "    df_train[i]=lencod.fit_transform(df_train[i])\n",
    "df_train"
   ]
  },
  {
   "cell_type": "code",
   "execution_count": 41,
   "id": "bdb63978",
   "metadata": {
    "execution": {
     "iopub.execute_input": "2023-04-15T07:31:13.725257Z",
     "iopub.status.busy": "2023-04-15T07:31:13.724426Z",
     "iopub.status.idle": "2023-04-15T07:31:13.733812Z",
     "shell.execute_reply": "2023-04-15T07:31:13.732969Z"
    },
    "papermill": {
     "duration": 0.032953,
     "end_time": "2023-04-15T07:31:13.735951",
     "exception": false,
     "start_time": "2023-04-15T07:31:13.702998",
     "status": "completed"
    },
    "tags": []
   },
   "outputs": [
    {
     "data": {
      "text/plain": [
       "array([0, 1])"
      ]
     },
     "execution_count": 41,
     "metadata": {},
     "output_type": "execute_result"
    }
   ],
   "source": [
    "df_train[\"Item_Fat_Content\"].unique()"
   ]
  },
  {
   "cell_type": "code",
   "execution_count": 42,
   "id": "adee576d",
   "metadata": {
    "execution": {
     "iopub.execute_input": "2023-04-15T07:31:13.778962Z",
     "iopub.status.busy": "2023-04-15T07:31:13.778195Z",
     "iopub.status.idle": "2023-04-15T07:31:13.792504Z",
     "shell.execute_reply": "2023-04-15T07:31:13.790880Z"
    },
    "papermill": {
     "duration": 0.038784,
     "end_time": "2023-04-15T07:31:13.794884",
     "exception": false,
     "start_time": "2023-04-15T07:31:13.756100",
     "status": "completed"
    },
    "tags": []
   },
   "outputs": [
    {
     "name": "stdout",
     "output_type": "stream",
     "text": [
      "<class 'pandas.core.frame.DataFrame'>\n",
      "RangeIndex: 8523 entries, 0 to 8522\n",
      "Data columns (total 11 columns):\n",
      " #   Column                Non-Null Count  Dtype  \n",
      "---  ------                --------------  -----  \n",
      " 0   Item_Identifier       8523 non-null   int64  \n",
      " 1   Item_Weight           8523 non-null   float64\n",
      " 2   Item_Fat_Content      8523 non-null   int64  \n",
      " 3   Item_Visibility       8523 non-null   float64\n",
      " 4   Item_Type             8523 non-null   int64  \n",
      " 5   Item_MRP              8523 non-null   float64\n",
      " 6   Outlet_Identifier     8523 non-null   int64  \n",
      " 7   Outlet_Size           8523 non-null   int64  \n",
      " 8   Outlet_Location_Type  8523 non-null   int64  \n",
      " 9   Outlet_Type           8523 non-null   int64  \n",
      " 10  Item_Outlet_Sales     8523 non-null   float64\n",
      "dtypes: float64(4), int64(7)\n",
      "memory usage: 732.6 KB\n"
     ]
    }
   ],
   "source": [
    "df_train.info()"
   ]
  },
  {
   "cell_type": "code",
   "execution_count": 43,
   "id": "2a5aa3e2",
   "metadata": {
    "execution": {
     "iopub.execute_input": "2023-04-15T07:31:13.836607Z",
     "iopub.status.busy": "2023-04-15T07:31:13.835677Z",
     "iopub.status.idle": "2023-04-15T07:31:13.843332Z",
     "shell.execute_reply": "2023-04-15T07:31:13.842274Z"
    },
    "papermill": {
     "duration": 0.031037,
     "end_time": "2023-04-15T07:31:13.845802",
     "exception": false,
     "start_time": "2023-04-15T07:31:13.814765",
     "status": "completed"
    },
    "tags": []
   },
   "outputs": [],
   "source": [
    "#extract the data \n",
    "y = df_train[\"Item_Outlet_Sales\"]\n",
    "X = df_train.drop(\"Item_Outlet_Sales\" ,axis = 1)"
   ]
  },
  {
   "cell_type": "code",
   "execution_count": 44,
   "id": "2902d4ed",
   "metadata": {
    "execution": {
     "iopub.execute_input": "2023-04-15T07:31:13.887515Z",
     "iopub.status.busy": "2023-04-15T07:31:13.887097Z",
     "iopub.status.idle": "2023-04-15T07:31:13.895588Z",
     "shell.execute_reply": "2023-04-15T07:31:13.894018Z"
    },
    "papermill": {
     "duration": 0.032315,
     "end_time": "2023-04-15T07:31:13.898052",
     "exception": false,
     "start_time": "2023-04-15T07:31:13.865737",
     "status": "completed"
    },
    "tags": []
   },
   "outputs": [
    {
     "data": {
      "text/plain": [
       "0    3735.1380\n",
       "1     443.4228\n",
       "2    2097.2700\n",
       "3     732.3800\n",
       "4     994.7052\n",
       "Name: Item_Outlet_Sales, dtype: float64"
      ]
     },
     "execution_count": 44,
     "metadata": {},
     "output_type": "execute_result"
    }
   ],
   "source": [
    "y.head()"
   ]
  },
  {
   "cell_type": "code",
   "execution_count": 45,
   "id": "20f4e3c7",
   "metadata": {
    "execution": {
     "iopub.execute_input": "2023-04-15T07:31:13.939785Z",
     "iopub.status.busy": "2023-04-15T07:31:13.939367Z",
     "iopub.status.idle": "2023-04-15T07:31:13.954306Z",
     "shell.execute_reply": "2023-04-15T07:31:13.953248Z"
    },
    "papermill": {
     "duration": 0.038605,
     "end_time": "2023-04-15T07:31:13.956550",
     "exception": false,
     "start_time": "2023-04-15T07:31:13.917945",
     "status": "completed"
    },
    "tags": []
   },
   "outputs": [
    {
     "data": {
      "text/html": [
       "<div>\n",
       "<style scoped>\n",
       "    .dataframe tbody tr th:only-of-type {\n",
       "        vertical-align: middle;\n",
       "    }\n",
       "\n",
       "    .dataframe tbody tr th {\n",
       "        vertical-align: top;\n",
       "    }\n",
       "\n",
       "    .dataframe thead th {\n",
       "        text-align: right;\n",
       "    }\n",
       "</style>\n",
       "<table border=\"1\" class=\"dataframe\">\n",
       "  <thead>\n",
       "    <tr style=\"text-align: right;\">\n",
       "      <th></th>\n",
       "      <th>Item_Identifier</th>\n",
       "      <th>Item_Weight</th>\n",
       "      <th>Item_Fat_Content</th>\n",
       "      <th>Item_Visibility</th>\n",
       "      <th>Item_Type</th>\n",
       "      <th>Item_MRP</th>\n",
       "      <th>Outlet_Identifier</th>\n",
       "      <th>Outlet_Size</th>\n",
       "      <th>Outlet_Location_Type</th>\n",
       "      <th>Outlet_Type</th>\n",
       "    </tr>\n",
       "  </thead>\n",
       "  <tbody>\n",
       "    <tr>\n",
       "      <th>0</th>\n",
       "      <td>156</td>\n",
       "      <td>9.30</td>\n",
       "      <td>0</td>\n",
       "      <td>0.016047</td>\n",
       "      <td>4</td>\n",
       "      <td>249.8092</td>\n",
       "      <td>9</td>\n",
       "      <td>1</td>\n",
       "      <td>0</td>\n",
       "      <td>1</td>\n",
       "    </tr>\n",
       "    <tr>\n",
       "      <th>1</th>\n",
       "      <td>8</td>\n",
       "      <td>5.92</td>\n",
       "      <td>1</td>\n",
       "      <td>0.019278</td>\n",
       "      <td>14</td>\n",
       "      <td>48.2692</td>\n",
       "      <td>3</td>\n",
       "      <td>1</td>\n",
       "      <td>2</td>\n",
       "      <td>2</td>\n",
       "    </tr>\n",
       "    <tr>\n",
       "      <th>2</th>\n",
       "      <td>662</td>\n",
       "      <td>17.50</td>\n",
       "      <td>0</td>\n",
       "      <td>0.016760</td>\n",
       "      <td>10</td>\n",
       "      <td>141.6180</td>\n",
       "      <td>9</td>\n",
       "      <td>1</td>\n",
       "      <td>0</td>\n",
       "      <td>1</td>\n",
       "    </tr>\n",
       "    <tr>\n",
       "      <th>3</th>\n",
       "      <td>1121</td>\n",
       "      <td>19.20</td>\n",
       "      <td>1</td>\n",
       "      <td>0.000000</td>\n",
       "      <td>6</td>\n",
       "      <td>182.0950</td>\n",
       "      <td>0</td>\n",
       "      <td>2</td>\n",
       "      <td>2</td>\n",
       "      <td>0</td>\n",
       "    </tr>\n",
       "    <tr>\n",
       "      <th>4</th>\n",
       "      <td>1297</td>\n",
       "      <td>8.93</td>\n",
       "      <td>0</td>\n",
       "      <td>0.000000</td>\n",
       "      <td>9</td>\n",
       "      <td>53.8614</td>\n",
       "      <td>1</td>\n",
       "      <td>0</td>\n",
       "      <td>2</td>\n",
       "      <td>1</td>\n",
       "    </tr>\n",
       "  </tbody>\n",
       "</table>\n",
       "</div>"
      ],
      "text/plain": [
       "   Item_Identifier  Item_Weight  Item_Fat_Content  Item_Visibility  Item_Type  \\\n",
       "0              156         9.30                 0         0.016047          4   \n",
       "1                8         5.92                 1         0.019278         14   \n",
       "2              662        17.50                 0         0.016760         10   \n",
       "3             1121        19.20                 1         0.000000          6   \n",
       "4             1297         8.93                 0         0.000000          9   \n",
       "\n",
       "   Item_MRP  Outlet_Identifier  Outlet_Size  Outlet_Location_Type  Outlet_Type  \n",
       "0  249.8092                  9            1                     0            1  \n",
       "1   48.2692                  3            1                     2            2  \n",
       "2  141.6180                  9            1                     0            1  \n",
       "3  182.0950                  0            2                     2            0  \n",
       "4   53.8614                  1            0                     2            1  "
      ]
     },
     "execution_count": 45,
     "metadata": {},
     "output_type": "execute_result"
    }
   ],
   "source": [
    "X.head()"
   ]
  },
  {
   "cell_type": "code",
   "execution_count": 46,
   "id": "bbd0ac32",
   "metadata": {
    "execution": {
     "iopub.execute_input": "2023-04-15T07:31:13.999229Z",
     "iopub.status.busy": "2023-04-15T07:31:13.998779Z",
     "iopub.status.idle": "2023-04-15T07:31:14.007955Z",
     "shell.execute_reply": "2023-04-15T07:31:14.007122Z"
    },
    "papermill": {
     "duration": 0.033268,
     "end_time": "2023-04-15T07:31:14.010346",
     "exception": false,
     "start_time": "2023-04-15T07:31:13.977078",
     "status": "completed"
    },
    "tags": []
   },
   "outputs": [],
   "source": [
    "X_train , X_test , y_train , y_test = train_test_split(X , y , test_size = 0.2 , random_state =42)"
   ]
  },
  {
   "cell_type": "markdown",
   "id": "24c92f77",
   "metadata": {
    "papermill": {
     "duration": 0.019698,
     "end_time": "2023-04-15T07:31:14.050322",
     "exception": false,
     "start_time": "2023-04-15T07:31:14.030624",
     "status": "completed"
    },
    "tags": []
   },
   "source": [
    "# linear regression model"
   ]
  },
  {
   "cell_type": "code",
   "execution_count": 47,
   "id": "efbb3dc1",
   "metadata": {
    "execution": {
     "iopub.execute_input": "2023-04-15T07:31:14.093709Z",
     "iopub.status.busy": "2023-04-15T07:31:14.093004Z",
     "iopub.status.idle": "2023-04-15T07:31:14.128592Z",
     "shell.execute_reply": "2023-04-15T07:31:14.127577Z"
    },
    "papermill": {
     "duration": 0.0596,
     "end_time": "2023-04-15T07:31:14.130924",
     "exception": false,
     "start_time": "2023-04-15T07:31:14.071324",
     "status": "completed"
    },
    "tags": []
   },
   "outputs": [
    {
     "data": {
      "text/plain": [
       "LinearRegression()"
      ]
     },
     "execution_count": 47,
     "metadata": {},
     "output_type": "execute_result"
    }
   ],
   "source": [
    "lg = LinearRegression()\n",
    "\n",
    "lg.fit(X_train, y_train)"
   ]
  },
  {
   "cell_type": "code",
   "execution_count": 48,
   "id": "a7017d80",
   "metadata": {
    "execution": {
     "iopub.execute_input": "2023-04-15T07:31:14.174744Z",
     "iopub.status.busy": "2023-04-15T07:31:14.173280Z",
     "iopub.status.idle": "2023-04-15T07:31:14.190927Z",
     "shell.execute_reply": "2023-04-15T07:31:14.189452Z"
    },
    "papermill": {
     "duration": 0.04393,
     "end_time": "2023-04-15T07:31:14.195459",
     "exception": false,
     "start_time": "2023-04-15T07:31:14.151529",
     "status": "completed"
    },
    "tags": []
   },
   "outputs": [
    {
     "data": {
      "text/plain": [
       "0.520183701030358"
      ]
     },
     "execution_count": 48,
     "metadata": {},
     "output_type": "execute_result"
    }
   ],
   "source": [
    "r2_score(y_test, lg.predict(X_test)) "
   ]
  },
  {
   "cell_type": "markdown",
   "id": "74057404",
   "metadata": {
    "papermill": {
     "duration": 0.053503,
     "end_time": "2023-04-15T07:31:14.303011",
     "exception": false,
     "start_time": "2023-04-15T07:31:14.249508",
     "status": "completed"
    },
    "tags": []
   },
   "source": [
    "# RandomForestRegressor model"
   ]
  },
  {
   "cell_type": "code",
   "execution_count": 49,
   "id": "11a8d63b",
   "metadata": {
    "execution": {
     "iopub.execute_input": "2023-04-15T07:31:14.347008Z",
     "iopub.status.busy": "2023-04-15T07:31:14.346576Z",
     "iopub.status.idle": "2023-04-15T07:31:17.631477Z",
     "shell.execute_reply": "2023-04-15T07:31:17.630088Z"
    },
    "papermill": {
     "duration": 3.309528,
     "end_time": "2023-04-15T07:31:17.634338",
     "exception": false,
     "start_time": "2023-04-15T07:31:14.324810",
     "status": "completed"
    },
    "tags": []
   },
   "outputs": [
    {
     "data": {
      "text/plain": [
       "RandomForestRegressor(random_state=42)"
      ]
     },
     "execution_count": 49,
     "metadata": {},
     "output_type": "execute_result"
    }
   ],
   "source": [
    "forest_reg = RandomForestRegressor(random_state=42)\n",
    "\n",
    "forest_reg.fit(X_train, y_train)\n"
   ]
  },
  {
   "cell_type": "code",
   "execution_count": 50,
   "id": "18a03c8a",
   "metadata": {
    "execution": {
     "iopub.execute_input": "2023-04-15T07:31:17.677957Z",
     "iopub.status.busy": "2023-04-15T07:31:17.677487Z",
     "iopub.status.idle": "2023-04-15T07:31:17.751523Z",
     "shell.execute_reply": "2023-04-15T07:31:17.750268Z"
    },
    "papermill": {
     "duration": 0.098634,
     "end_time": "2023-04-15T07:31:17.754084",
     "exception": false,
     "start_time": "2023-04-15T07:31:17.655450",
     "status": "completed"
    },
    "tags": []
   },
   "outputs": [
    {
     "data": {
      "text/plain": [
       "0.550390673666385"
      ]
     },
     "execution_count": 50,
     "metadata": {},
     "output_type": "execute_result"
    }
   ],
   "source": [
    "r2_score(y_test, forest_reg.predict(X_test)) "
   ]
  },
  {
   "cell_type": "code",
   "execution_count": null,
   "id": "33f23ead",
   "metadata": {
    "papermill": {
     "duration": 0.020952,
     "end_time": "2023-04-15T07:31:17.795872",
     "exception": false,
     "start_time": "2023-04-15T07:31:17.774920",
     "status": "completed"
    },
    "tags": []
   },
   "outputs": [],
   "source": []
  }
 ],
 "metadata": {
  "kernelspec": {
   "display_name": "Python 3",
   "language": "python",
   "name": "python3"
  },
  "language_info": {
   "codemirror_mode": {
    "name": "ipython",
    "version": 3
   },
   "file_extension": ".py",
   "mimetype": "text/x-python",
   "name": "python",
   "nbconvert_exporter": "python",
   "pygments_lexer": "ipython3",
   "version": "3.7.12"
  },
  "papermill": {
   "default_parameters": {},
   "duration": 21.657905,
   "end_time": "2023-04-15T07:31:18.639991",
   "environment_variables": {},
   "exception": null,
   "input_path": "__notebook__.ipynb",
   "output_path": "__notebook__.ipynb",
   "parameters": {},
   "start_time": "2023-04-15T07:30:56.982086",
   "version": "2.4.0"
  }
 },
 "nbformat": 4,
 "nbformat_minor": 5
}
